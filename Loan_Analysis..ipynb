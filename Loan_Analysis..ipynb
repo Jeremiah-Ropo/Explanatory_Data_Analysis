{
 "cells": [
  {
   "cell_type": "code",
   "execution_count": 1,
   "metadata": {},
   "outputs": [],
   "source": [
    "import numpy as np\n",
    "import pandas as pd"
   ]
  },
  {
   "cell_type": "code",
   "execution_count": 2,
   "metadata": {},
   "outputs": [],
   "source": [
    "import seaborn as sns\n",
    "import matplotlib.pyplot as plt\n",
    "%matplotlib inline"
   ]
  },
  {
   "cell_type": "code",
   "execution_count": 3,
   "metadata": {},
   "outputs": [],
   "source": [
    "import warnings\n",
    "warnings.filterwarnings('ignore')"
   ]
  },
  {
   "cell_type": "code",
   "execution_count": 4,
   "metadata": {},
   "outputs": [],
   "source": [
    "train = pd.read_csv('loantrain.csv')\n",
    "test = pd.read_csv('loantest.csv')"
   ]
  },
  {
   "cell_type": "code",
   "execution_count": 5,
   "metadata": {},
   "outputs": [
    {
     "data": {
      "text/html": [
       "<div>\n",
       "<style scoped>\n",
       "    .dataframe tbody tr th:only-of-type {\n",
       "        vertical-align: middle;\n",
       "    }\n",
       "\n",
       "    .dataframe tbody tr th {\n",
       "        vertical-align: top;\n",
       "    }\n",
       "\n",
       "    .dataframe thead th {\n",
       "        text-align: right;\n",
       "    }\n",
       "</style>\n",
       "<table border=\"1\" class=\"dataframe\">\n",
       "  <thead>\n",
       "    <tr style=\"text-align: right;\">\n",
       "      <th></th>\n",
       "      <th>Loan_ID</th>\n",
       "      <th>Gender</th>\n",
       "      <th>Married</th>\n",
       "      <th>Dependents</th>\n",
       "      <th>Education</th>\n",
       "      <th>Self_Employed</th>\n",
       "      <th>ApplicantIncome</th>\n",
       "      <th>CoapplicantIncome</th>\n",
       "      <th>LoanAmount</th>\n",
       "      <th>Loan_Amount_Term</th>\n",
       "      <th>Credit_History</th>\n",
       "      <th>Property_Area</th>\n",
       "      <th>Loan_Status</th>\n",
       "    </tr>\n",
       "  </thead>\n",
       "  <tbody>\n",
       "    <tr>\n",
       "      <td>0</td>\n",
       "      <td>LP001002</td>\n",
       "      <td>Male</td>\n",
       "      <td>No</td>\n",
       "      <td>0</td>\n",
       "      <td>Graduate</td>\n",
       "      <td>No</td>\n",
       "      <td>5849</td>\n",
       "      <td>0.0</td>\n",
       "      <td>NaN</td>\n",
       "      <td>360.0</td>\n",
       "      <td>1.0</td>\n",
       "      <td>Urban</td>\n",
       "      <td>Y</td>\n",
       "    </tr>\n",
       "    <tr>\n",
       "      <td>1</td>\n",
       "      <td>LP001003</td>\n",
       "      <td>Male</td>\n",
       "      <td>Yes</td>\n",
       "      <td>1</td>\n",
       "      <td>Graduate</td>\n",
       "      <td>No</td>\n",
       "      <td>4583</td>\n",
       "      <td>1508.0</td>\n",
       "      <td>128.0</td>\n",
       "      <td>360.0</td>\n",
       "      <td>1.0</td>\n",
       "      <td>Rural</td>\n",
       "      <td>N</td>\n",
       "    </tr>\n",
       "    <tr>\n",
       "      <td>2</td>\n",
       "      <td>LP001005</td>\n",
       "      <td>Male</td>\n",
       "      <td>Yes</td>\n",
       "      <td>0</td>\n",
       "      <td>Graduate</td>\n",
       "      <td>Yes</td>\n",
       "      <td>3000</td>\n",
       "      <td>0.0</td>\n",
       "      <td>66.0</td>\n",
       "      <td>360.0</td>\n",
       "      <td>1.0</td>\n",
       "      <td>Urban</td>\n",
       "      <td>Y</td>\n",
       "    </tr>\n",
       "    <tr>\n",
       "      <td>3</td>\n",
       "      <td>LP001006</td>\n",
       "      <td>Male</td>\n",
       "      <td>Yes</td>\n",
       "      <td>0</td>\n",
       "      <td>Not Graduate</td>\n",
       "      <td>No</td>\n",
       "      <td>2583</td>\n",
       "      <td>2358.0</td>\n",
       "      <td>120.0</td>\n",
       "      <td>360.0</td>\n",
       "      <td>1.0</td>\n",
       "      <td>Urban</td>\n",
       "      <td>Y</td>\n",
       "    </tr>\n",
       "    <tr>\n",
       "      <td>4</td>\n",
       "      <td>LP001008</td>\n",
       "      <td>Male</td>\n",
       "      <td>No</td>\n",
       "      <td>0</td>\n",
       "      <td>Graduate</td>\n",
       "      <td>No</td>\n",
       "      <td>6000</td>\n",
       "      <td>0.0</td>\n",
       "      <td>141.0</td>\n",
       "      <td>360.0</td>\n",
       "      <td>1.0</td>\n",
       "      <td>Urban</td>\n",
       "      <td>Y</td>\n",
       "    </tr>\n",
       "  </tbody>\n",
       "</table>\n",
       "</div>"
      ],
      "text/plain": [
       "    Loan_ID Gender Married Dependents     Education Self_Employed  \\\n",
       "0  LP001002   Male      No          0      Graduate            No   \n",
       "1  LP001003   Male     Yes          1      Graduate            No   \n",
       "2  LP001005   Male     Yes          0      Graduate           Yes   \n",
       "3  LP001006   Male     Yes          0  Not Graduate            No   \n",
       "4  LP001008   Male      No          0      Graduate            No   \n",
       "\n",
       "   ApplicantIncome  CoapplicantIncome  LoanAmount  Loan_Amount_Term  \\\n",
       "0             5849                0.0         NaN             360.0   \n",
       "1             4583             1508.0       128.0             360.0   \n",
       "2             3000                0.0        66.0             360.0   \n",
       "3             2583             2358.0       120.0             360.0   \n",
       "4             6000                0.0       141.0             360.0   \n",
       "\n",
       "   Credit_History Property_Area Loan_Status  \n",
       "0             1.0         Urban           Y  \n",
       "1             1.0         Rural           N  \n",
       "2             1.0         Urban           Y  \n",
       "3             1.0         Urban           Y  \n",
       "4             1.0         Urban           Y  "
      ]
     },
     "execution_count": 5,
     "metadata": {},
     "output_type": "execute_result"
    }
   ],
   "source": [
    "train.head()"
   ]
  },
  {
   "cell_type": "code",
   "execution_count": 6,
   "metadata": {},
   "outputs": [
    {
     "data": {
      "text/html": [
       "<div>\n",
       "<style scoped>\n",
       "    .dataframe tbody tr th:only-of-type {\n",
       "        vertical-align: middle;\n",
       "    }\n",
       "\n",
       "    .dataframe tbody tr th {\n",
       "        vertical-align: top;\n",
       "    }\n",
       "\n",
       "    .dataframe thead th {\n",
       "        text-align: right;\n",
       "    }\n",
       "</style>\n",
       "<table border=\"1\" class=\"dataframe\">\n",
       "  <thead>\n",
       "    <tr style=\"text-align: right;\">\n",
       "      <th></th>\n",
       "      <th>Loan_ID</th>\n",
       "      <th>Gender</th>\n",
       "      <th>Married</th>\n",
       "      <th>Dependents</th>\n",
       "      <th>Education</th>\n",
       "      <th>Self_Employed</th>\n",
       "      <th>ApplicantIncome</th>\n",
       "      <th>CoapplicantIncome</th>\n",
       "      <th>LoanAmount</th>\n",
       "      <th>Loan_Amount_Term</th>\n",
       "      <th>Credit_History</th>\n",
       "      <th>Property_Area</th>\n",
       "    </tr>\n",
       "  </thead>\n",
       "  <tbody>\n",
       "    <tr>\n",
       "      <td>0</td>\n",
       "      <td>LP001015</td>\n",
       "      <td>Male</td>\n",
       "      <td>Yes</td>\n",
       "      <td>0</td>\n",
       "      <td>Graduate</td>\n",
       "      <td>No</td>\n",
       "      <td>5720</td>\n",
       "      <td>0</td>\n",
       "      <td>110.0</td>\n",
       "      <td>360.0</td>\n",
       "      <td>1.0</td>\n",
       "      <td>Urban</td>\n",
       "    </tr>\n",
       "    <tr>\n",
       "      <td>1</td>\n",
       "      <td>LP001022</td>\n",
       "      <td>Male</td>\n",
       "      <td>Yes</td>\n",
       "      <td>1</td>\n",
       "      <td>Graduate</td>\n",
       "      <td>No</td>\n",
       "      <td>3076</td>\n",
       "      <td>1500</td>\n",
       "      <td>126.0</td>\n",
       "      <td>360.0</td>\n",
       "      <td>1.0</td>\n",
       "      <td>Urban</td>\n",
       "    </tr>\n",
       "    <tr>\n",
       "      <td>2</td>\n",
       "      <td>LP001031</td>\n",
       "      <td>Male</td>\n",
       "      <td>Yes</td>\n",
       "      <td>2</td>\n",
       "      <td>Graduate</td>\n",
       "      <td>No</td>\n",
       "      <td>5000</td>\n",
       "      <td>1800</td>\n",
       "      <td>208.0</td>\n",
       "      <td>360.0</td>\n",
       "      <td>1.0</td>\n",
       "      <td>Urban</td>\n",
       "    </tr>\n",
       "    <tr>\n",
       "      <td>3</td>\n",
       "      <td>LP001035</td>\n",
       "      <td>Male</td>\n",
       "      <td>Yes</td>\n",
       "      <td>2</td>\n",
       "      <td>Graduate</td>\n",
       "      <td>No</td>\n",
       "      <td>2340</td>\n",
       "      <td>2546</td>\n",
       "      <td>100.0</td>\n",
       "      <td>360.0</td>\n",
       "      <td>NaN</td>\n",
       "      <td>Urban</td>\n",
       "    </tr>\n",
       "    <tr>\n",
       "      <td>4</td>\n",
       "      <td>LP001051</td>\n",
       "      <td>Male</td>\n",
       "      <td>No</td>\n",
       "      <td>0</td>\n",
       "      <td>Not Graduate</td>\n",
       "      <td>No</td>\n",
       "      <td>3276</td>\n",
       "      <td>0</td>\n",
       "      <td>78.0</td>\n",
       "      <td>360.0</td>\n",
       "      <td>1.0</td>\n",
       "      <td>Urban</td>\n",
       "    </tr>\n",
       "  </tbody>\n",
       "</table>\n",
       "</div>"
      ],
      "text/plain": [
       "    Loan_ID Gender Married Dependents     Education Self_Employed  \\\n",
       "0  LP001015   Male     Yes          0      Graduate            No   \n",
       "1  LP001022   Male     Yes          1      Graduate            No   \n",
       "2  LP001031   Male     Yes          2      Graduate            No   \n",
       "3  LP001035   Male     Yes          2      Graduate            No   \n",
       "4  LP001051   Male      No          0  Not Graduate            No   \n",
       "\n",
       "   ApplicantIncome  CoapplicantIncome  LoanAmount  Loan_Amount_Term  \\\n",
       "0             5720                  0       110.0             360.0   \n",
       "1             3076               1500       126.0             360.0   \n",
       "2             5000               1800       208.0             360.0   \n",
       "3             2340               2546       100.0             360.0   \n",
       "4             3276                  0        78.0             360.0   \n",
       "\n",
       "   Credit_History Property_Area  \n",
       "0             1.0         Urban  \n",
       "1             1.0         Urban  \n",
       "2             1.0         Urban  \n",
       "3             NaN         Urban  \n",
       "4             1.0         Urban  "
      ]
     },
     "execution_count": 6,
     "metadata": {},
     "output_type": "execute_result"
    }
   ],
   "source": [
    "test.head()"
   ]
  },
  {
   "cell_type": "code",
   "execution_count": 7,
   "metadata": {},
   "outputs": [
    {
     "name": "stdout",
     "output_type": "stream",
     "text": [
      "<class 'pandas.core.frame.DataFrame'>\n",
      "RangeIndex: 614 entries, 0 to 613\n",
      "Data columns (total 13 columns):\n",
      "Loan_ID              614 non-null object\n",
      "Gender               601 non-null object\n",
      "Married              611 non-null object\n",
      "Dependents           599 non-null object\n",
      "Education            614 non-null object\n",
      "Self_Employed        582 non-null object\n",
      "ApplicantIncome      614 non-null int64\n",
      "CoapplicantIncome    614 non-null float64\n",
      "LoanAmount           592 non-null float64\n",
      "Loan_Amount_Term     600 non-null float64\n",
      "Credit_History       564 non-null float64\n",
      "Property_Area        614 non-null object\n",
      "Loan_Status          614 non-null object\n",
      "dtypes: float64(4), int64(1), object(8)\n",
      "memory usage: 62.5+ KB\n"
     ]
    }
   ],
   "source": [
    "train.info()"
   ]
  },
  {
   "cell_type": "code",
   "execution_count": 8,
   "metadata": {
    "scrolled": true
   },
   "outputs": [
    {
     "name": "stdout",
     "output_type": "stream",
     "text": [
      "         Loan_ID Gender Married Dependents Education Self_Employed  \\\n",
      "count        614    601     611        599       614           582   \n",
      "unique       614      2       2          4         2             2   \n",
      "top     LP001585   Male     Yes          0  Graduate            No   \n",
      "freq           1    489     398        345       480           500   \n",
      "\n",
      "       Property_Area Loan_Status  \n",
      "count            614         614  \n",
      "unique             3           2  \n",
      "top        Semiurban           Y  \n",
      "freq             233         422  \n",
      "\n",
      ":        ApplicantIncome  CoapplicantIncome  LoanAmount  Loan_Amount_Term  \\\n",
      "count       614.000000         614.000000  592.000000         600.00000   \n",
      "mean       5403.459283        1621.245798  146.412162         342.00000   \n",
      "std        6109.041673        2926.248369   85.587325          65.12041   \n",
      "min         150.000000           0.000000    9.000000          12.00000   \n",
      "25%        2877.500000           0.000000  100.000000         360.00000   \n",
      "50%        3812.500000        1188.500000  128.000000         360.00000   \n",
      "75%        5795.000000        2297.250000  168.000000         360.00000   \n",
      "max       81000.000000       41667.000000  700.000000         480.00000   \n",
      "\n",
      "       Credit_History  \n",
      "count      564.000000  \n",
      "mean         0.842199  \n",
      "std          0.364878  \n",
      "min          0.000000  \n",
      "25%          1.000000  \n",
      "50%          1.000000  \n",
      "75%          1.000000  \n",
      "max          1.000000  \n"
     ]
    }
   ],
   "source": [
    "print(train.describe(include=np.object))\n",
    "print('\\n:',train.describe())"
   ]
  },
  {
   "cell_type": "code",
   "execution_count": 9,
   "metadata": {},
   "outputs": [],
   "source": [
    "#we see that the credit history is 0 or 1 so we will change the dtype to object\n",
    "\n",
    "train['Credit_History'] = train['Credit_History'].astype('O')"
   ]
  },
  {
   "cell_type": "code",
   "execution_count": 10,
   "metadata": {},
   "outputs": [
    {
     "data": {
      "text/plain": [
       "False"
      ]
     },
     "execution_count": 10,
     "metadata": {},
     "output_type": "execute_result"
    }
   ],
   "source": [
    "train.duplicated().any()"
   ]
  },
  {
   "cell_type": "code",
   "execution_count": 11,
   "metadata": {},
   "outputs": [
    {
     "name": "stdout",
     "output_type": "stream",
     "text": [
      "the percentage of Y class: 0.69\n",
      "\n",
      "the percentage of N class: 0.31\n"
     ]
    },
    {
     "data": {
      "image/png": "[encoded data removed]",
      "text/plain": [
       "<Figure size 576x432 with 1 Axes>"
      ]
     },
     "metadata": {
      "needs_background": "light"
     },
     "output_type": "display_data"
    }
   ],
   "source": [
    "plt.figure(figsize=(8,6))\n",
    "sns.countplot(train['Loan_Status'])\n",
    "\n",
    "print('the percentage of Y class: %.2f'% (train['Loan_Status'].value_counts()[0]/len(train)))\n",
    "print('\\nthe percentage of N class: %.2f'%(train['Loan_Status'].value_counts()[1]/len(train)))"
   ]
  },
  {
   "cell_type": "code",
   "execution_count": 12,
   "metadata": {},
   "outputs": [
    {
     "data": {
      "text/plain": [
       "Index(['Loan_ID', 'Gender', 'Married', 'Dependents', 'Education',\n",
       "       'Self_Employed', 'ApplicantIncome', 'CoapplicantIncome', 'LoanAmount',\n",
       "       'Loan_Amount_Term', 'Credit_History', 'Property_Area', 'Loan_Status'],\n",
       "      dtype='object')"
      ]
     },
     "execution_count": 12,
     "metadata": {},
     "output_type": "execute_result"
    }
   ],
   "source": [
    "train.columns"
   ]
  },
  {
   "cell_type": "code",
   "execution_count": 13,
   "metadata": {},
   "outputs": [
    {
     "data": {
      "text/plain": [
       "<seaborn.axisgrid.FacetGrid at 0x1e84915dcc8>"
      ]
     },
     "execution_count": 13,
     "metadata": {},
     "output_type": "execute_result"
    },
    {
     "data": {
      "image/png": "[encoded data removed]",
      "text/plain": [
       "<Figure size 737.28x230.4 with 2 Axes>"
      ]
     },
     "metadata": {
      "needs_background": "light"
     },
     "output_type": "display_data"
    }
   ],
   "source": [
    "#credit_history\n",
    "\n",
    "grid = sns.FacetGrid(train, col='Loan_Status', size=3.2, aspect=1.6)\n",
    "grid.map(sns.countplot, 'Credit_History')"
   ]
  },
  {
   "cell_type": "code",
   "execution_count": 14,
   "metadata": {},
   "outputs": [
    {
     "data": {
      "text/plain": [
       "<seaborn.axisgrid.FacetGrid at 0x1e84925d648>"
      ]
     },
     "execution_count": 14,
     "metadata": {},
     "output_type": "execute_result"
    },
    {
     "data": {
      "image/png": "[encoded data removed]",
      "text/plain": [
       "<Figure size 428.544x230.4 with 2 Axes>"
      ]
     },
     "metadata": {
      "needs_background": "light"
     },
     "output_type": "display_data"
    }
   ],
   "source": [
    "#gender\n",
    "\n",
    "grid = sns.FacetGrid(train, col='Loan_Status', size=3.2, aspect=.93)\n",
    "grid.map(sns.countplot, 'Gender')#good feature because of their varience between the both*"
   ]
  },
  {
   "cell_type": "code",
   "execution_count": 15,
   "metadata": {},
   "outputs": [
    {
     "data": {
      "text/plain": [
       "<matplotlib.axes._subplots.AxesSubplot at 0x1e849215f48>"
      ]
     },
     "execution_count": 15,
     "metadata": {},
     "output_type": "execute_result"
    },
    {
     "data": {
      "image/png": "[encoded data removed]",
      "text/plain": [
       "<Figure size 432x360 with 1 Axes>"
      ]
     },
     "metadata": {
      "needs_background": "light"
     },
     "output_type": "display_data"
    }
   ],
   "source": [
    "#married\n",
    "plt.figure(figsize=(6,5))\n",
    "\n",
    "sns.countplot(x='Married', hue='Loan_Status', data=train)"
   ]
  },
  {
   "cell_type": "code",
   "execution_count": 16,
   "metadata": {},
   "outputs": [
    {
     "data": {
      "text/plain": [
       "<matplotlib.axes._subplots.AxesSubplot at 0x1e849388ac8>"
      ]
     },
     "execution_count": 16,
     "metadata": {},
     "output_type": "execute_result"
    },
    {
     "data": {
      "image/png": "[encoded data removed]",
      "text/plain": [
       "<Figure size 432x360 with 1 Axes>"
      ]
     },
     "metadata": {
      "needs_background": "light"
     },
     "output_type": "display_data"
    }
   ],
   "source": [
    "#dependants\n",
    "plt.figure(figsize=(6,5))\n",
    "\n",
    "sns.countplot(x='Dependents', hue='Loan_Status', data=train)"
   ]
  },
  {
   "cell_type": "code",
   "execution_count": 17,
   "metadata": {},
   "outputs": [
    {
     "data": {
      "text/plain": [
       "<matplotlib.axes._subplots.AxesSubplot at 0x1e849309f48>"
      ]
     },
     "execution_count": 17,
     "metadata": {},
     "output_type": "execute_result"
    },
    {
     "data": {
      "image/png": "[encoded data removed]",
      "text/plain": [
       "<Figure size 432x360 with 1 Axes>"
      ]
     },
     "metadata": {
      "needs_background": "light"
     },
     "output_type": "display_data"
    }
   ],
   "source": [
    "plt.figure(figsize=(6,5))\n",
    "sns.countplot(x='Property_Area', hue='Loan_Status', data=train)"
   ]
  },
  {
   "cell_type": "code",
   "execution_count": 18,
   "metadata": {},
   "outputs": [
    {
     "data": {
      "text/plain": [
       "<matplotlib.axes._subplots.AxesSubplot at 0x1e8493e4b88>"
      ]
     },
     "execution_count": 18,
     "metadata": {},
     "output_type": "execute_result"
    },
    {
     "data": {
      "image/png": "[encoded data removed]",
      "text/plain": [
       "<Figure size 432x360 with 1 Axes>"
      ]
     },
     "metadata": {
      "needs_background": "light"
     },
     "output_type": "display_data"
    }
   ],
   "source": [
    "plt.figure(figsize=(6,5))\n",
    "sns.countplot(x='Education', hue='Loan_Status', data=train)"
   ]
  },
  {
   "cell_type": "code",
   "execution_count": 19,
   "metadata": {},
   "outputs": [
    {
     "data": {
      "text/plain": [
       "<matplotlib.axes._subplots.AxesSubplot at 0x1e8494d6ec8>"
      ]
     },
     "execution_count": 19,
     "metadata": {},
     "output_type": "execute_result"
    },
    {
     "data": {
      "image/png": "[encoded data removed]",
      "text/plain": [
       "<Figure size 432x360 with 1 Axes>"
      ]
     },
     "metadata": {
      "needs_background": "light"
     },
     "output_type": "display_data"
    }
   ],
   "source": [
    "plt.figure(figsize=(6,5))\n",
    "sns.countplot(x='Self_Employed', hue='Loan_Status', data=train)"
   ]
  },
  {
   "cell_type": "code",
   "execution_count": 20,
   "metadata": {},
   "outputs": [
    {
     "data": {
      "text/plain": [
       "<matplotlib.collections.PathCollection at 0x1e849582088>"
      ]
     },
     "execution_count": 20,
     "metadata": {},
     "output_type": "execute_result"
    },
    {
     "data": {
      "image/png": "[encoded data removed]",
      "text/plain": [
       "<Figure size 432x360 with 1 Axes>"
      ]
     },
     "metadata": {
      "needs_background": "light"
     },
     "output_type": "display_data"
    }
   ],
   "source": [
    "plt.figure(figsize=(6,5))\n",
    "plt.scatter(x=train['ApplicantIncome'],y=train['Loan_Status'])"
   ]
  },
  {
   "cell_type": "code",
   "execution_count": 21,
   "metadata": {},
   "outputs": [
    {
     "data": {
      "text/plain": [
       "Index(['Loan_ID', 'Gender', 'Married', 'Dependents', 'Education',\n",
       "       'Self_Employed', 'ApplicantIncome', 'CoapplicantIncome', 'LoanAmount',\n",
       "       'Loan_Amount_Term', 'Credit_History', 'Property_Area', 'Loan_Status'],\n",
       "      dtype='object')"
      ]
     },
     "execution_count": 21,
     "metadata": {},
     "output_type": "execute_result"
    }
   ],
   "source": [
    "train.columns"
   ]
  },
  {
   "cell_type": "code",
   "execution_count": 22,
   "metadata": {},
   "outputs": [
    {
     "data": {
      "text/plain": [
       "<matplotlib.collections.PathCollection at 0x1e8495a6a48>"
      ]
     },
     "execution_count": 22,
     "metadata": {},
     "output_type": "execute_result"
    },
    {
     "data": {
      "image/png": "[encoded data removed]",
      "text/plain": [
       "<Figure size 360x288 with 1 Axes>"
      ]
     },
     "metadata": {
      "needs_background": "light"
     },
     "output_type": "display_data"
    }
   ],
   "source": [
    "plt.figure(figsize=(5,4))\n",
    "plt.scatter(x=train['CoapplicantIncome'],y=train['Loan_Status'])"
   ]
  },
  {
   "cell_type": "code",
   "execution_count": 23,
   "metadata": {},
   "outputs": [
    {
     "data": {
      "text/html": [
       "<div>\n",
       "<style scoped>\n",
       "    .dataframe tbody tr th:only-of-type {\n",
       "        vertical-align: middle;\n",
       "    }\n",
       "\n",
       "    .dataframe tbody tr th {\n",
       "        vertical-align: top;\n",
       "    }\n",
       "\n",
       "    .dataframe thead th {\n",
       "        text-align: right;\n",
       "    }\n",
       "</style>\n",
       "<table border=\"1\" class=\"dataframe\">\n",
       "  <thead>\n",
       "    <tr style=\"text-align: right;\">\n",
       "      <th></th>\n",
       "      <th>ApplicantIncome</th>\n",
       "      <th>CoapplicantIncome</th>\n",
       "      <th>LoanAmount</th>\n",
       "      <th>Loan_Amount_Term</th>\n",
       "    </tr>\n",
       "    <tr>\n",
       "      <th>Loan_Status</th>\n",
       "      <th></th>\n",
       "      <th></th>\n",
       "      <th></th>\n",
       "      <th></th>\n",
       "    </tr>\n",
       "  </thead>\n",
       "  <tbody>\n",
       "    <tr>\n",
       "      <td>N</td>\n",
       "      <td>3833.5</td>\n",
       "      <td>268.0</td>\n",
       "      <td>129.0</td>\n",
       "      <td>360.0</td>\n",
       "    </tr>\n",
       "    <tr>\n",
       "      <td>Y</td>\n",
       "      <td>3812.5</td>\n",
       "      <td>1239.5</td>\n",
       "      <td>126.0</td>\n",
       "      <td>360.0</td>\n",
       "    </tr>\n",
       "  </tbody>\n",
       "</table>\n",
       "</div>"
      ],
      "text/plain": [
       "             ApplicantIncome  CoapplicantIncome  LoanAmount  Loan_Amount_Term\n",
       "Loan_Status                                                                  \n",
       "N                     3833.5              268.0       129.0             360.0\n",
       "Y                     3812.5             1239.5       126.0             360.0"
      ]
     },
     "execution_count": 23,
     "metadata": {},
     "output_type": "execute_result"
    }
   ],
   "source": [
    "#numerical data\n",
    "\n",
    "train.groupby(by=['Loan_Status']).median()#because it not affected by outliers"
   ]
  },
  {
   "cell_type": "code",
   "execution_count": 24,
   "metadata": {},
   "outputs": [
    {
     "data": {
      "text/html": [
       "<div>\n",
       "<style scoped>\n",
       "    .dataframe tbody tr th:only-of-type {\n",
       "        vertical-align: middle;\n",
       "    }\n",
       "\n",
       "    .dataframe tbody tr th {\n",
       "        vertical-align: top;\n",
       "    }\n",
       "\n",
       "    .dataframe thead th {\n",
       "        text-align: right;\n",
       "    }\n",
       "</style>\n",
       "<table border=\"1\" class=\"dataframe\">\n",
       "  <thead>\n",
       "    <tr style=\"text-align: right;\">\n",
       "      <th></th>\n",
       "      <th>training_miss</th>\n",
       "      <th>percentage</th>\n",
       "    </tr>\n",
       "  </thead>\n",
       "  <tbody>\n",
       "    <tr>\n",
       "      <td>Credit_History</td>\n",
       "      <td>50</td>\n",
       "      <td>8.143322</td>\n",
       "    </tr>\n",
       "    <tr>\n",
       "      <td>Self_Employed</td>\n",
       "      <td>32</td>\n",
       "      <td>5.211726</td>\n",
       "    </tr>\n",
       "    <tr>\n",
       "      <td>LoanAmount</td>\n",
       "      <td>22</td>\n",
       "      <td>3.583062</td>\n",
       "    </tr>\n",
       "    <tr>\n",
       "      <td>Dependents</td>\n",
       "      <td>15</td>\n",
       "      <td>2.442997</td>\n",
       "    </tr>\n",
       "    <tr>\n",
       "      <td>Loan_Amount_Term</td>\n",
       "      <td>14</td>\n",
       "      <td>2.280130</td>\n",
       "    </tr>\n",
       "    <tr>\n",
       "      <td>Gender</td>\n",
       "      <td>13</td>\n",
       "      <td>2.117264</td>\n",
       "    </tr>\n",
       "    <tr>\n",
       "      <td>Married</td>\n",
       "      <td>3</td>\n",
       "      <td>0.488599</td>\n",
       "    </tr>\n",
       "    <tr>\n",
       "      <td>Loan_ID</td>\n",
       "      <td>0</td>\n",
       "      <td>0.000000</td>\n",
       "    </tr>\n",
       "    <tr>\n",
       "      <td>Education</td>\n",
       "      <td>0</td>\n",
       "      <td>0.000000</td>\n",
       "    </tr>\n",
       "    <tr>\n",
       "      <td>ApplicantIncome</td>\n",
       "      <td>0</td>\n",
       "      <td>0.000000</td>\n",
       "    </tr>\n",
       "    <tr>\n",
       "      <td>CoapplicantIncome</td>\n",
       "      <td>0</td>\n",
       "      <td>0.000000</td>\n",
       "    </tr>\n",
       "    <tr>\n",
       "      <td>Property_Area</td>\n",
       "      <td>0</td>\n",
       "      <td>0.000000</td>\n",
       "    </tr>\n",
       "    <tr>\n",
       "      <td>Loan_Status</td>\n",
       "      <td>0</td>\n",
       "      <td>0.000000</td>\n",
       "    </tr>\n",
       "  </tbody>\n",
       "</table>\n",
       "</div>"
      ],
      "text/plain": [
       "                   training_miss  percentage\n",
       "Credit_History                50    8.143322\n",
       "Self_Employed                 32    5.211726\n",
       "LoanAmount                    22    3.583062\n",
       "Dependents                    15    2.442997\n",
       "Loan_Amount_Term              14    2.280130\n",
       "Gender                        13    2.117264\n",
       "Married                        3    0.488599\n",
       "Loan_ID                        0    0.000000\n",
       "Education                      0    0.000000\n",
       "ApplicantIncome                0    0.000000\n",
       "CoapplicantIncome              0    0.000000\n",
       "Property_Area                  0    0.000000\n",
       "Loan_Status                    0    0.000000"
      ]
     },
     "execution_count": 24,
     "metadata": {},
     "output_type": "execute_result"
    }
   ],
   "source": [
    "#percentage of missing values in each data varibles\n",
    "\n",
    "total_miss = train.isnull().sum()\n",
    "perc_miss = total_miss/train.isnull().count()*100\n",
    "\n",
    "missing_data = pd.DataFrame({'training_miss':total_miss, 'percentage':perc_miss})\n",
    "missing_data.sort_values(by='training_miss', ascending=False)"
   ]
  },
  {
   "cell_type": "code",
   "execution_count": 25,
   "metadata": {},
   "outputs": [
    {
     "data": {
      "text/html": [
       "<div>\n",
       "<style scoped>\n",
       "    .dataframe tbody tr th:only-of-type {\n",
       "        vertical-align: middle;\n",
       "    }\n",
       "\n",
       "    .dataframe tbody tr th {\n",
       "        vertical-align: top;\n",
       "    }\n",
       "\n",
       "    .dataframe thead th {\n",
       "        text-align: right;\n",
       "    }\n",
       "</style>\n",
       "<table border=\"1\" class=\"dataframe\">\n",
       "  <thead>\n",
       "    <tr style=\"text-align: right;\">\n",
       "      <th></th>\n",
       "      <th>test_miss</th>\n",
       "      <th>percentage</th>\n",
       "    </tr>\n",
       "  </thead>\n",
       "  <tbody>\n",
       "    <tr>\n",
       "      <td>Credit_History</td>\n",
       "      <td>29</td>\n",
       "      <td>7.901907</td>\n",
       "    </tr>\n",
       "    <tr>\n",
       "      <td>Self_Employed</td>\n",
       "      <td>23</td>\n",
       "      <td>6.267030</td>\n",
       "    </tr>\n",
       "    <tr>\n",
       "      <td>Gender</td>\n",
       "      <td>11</td>\n",
       "      <td>2.997275</td>\n",
       "    </tr>\n",
       "    <tr>\n",
       "      <td>Dependents</td>\n",
       "      <td>10</td>\n",
       "      <td>2.724796</td>\n",
       "    </tr>\n",
       "    <tr>\n",
       "      <td>Loan_Amount_Term</td>\n",
       "      <td>6</td>\n",
       "      <td>1.634877</td>\n",
       "    </tr>\n",
       "    <tr>\n",
       "      <td>LoanAmount</td>\n",
       "      <td>5</td>\n",
       "      <td>1.362398</td>\n",
       "    </tr>\n",
       "    <tr>\n",
       "      <td>Loan_ID</td>\n",
       "      <td>0</td>\n",
       "      <td>0.000000</td>\n",
       "    </tr>\n",
       "    <tr>\n",
       "      <td>Married</td>\n",
       "      <td>0</td>\n",
       "      <td>0.000000</td>\n",
       "    </tr>\n",
       "    <tr>\n",
       "      <td>Education</td>\n",
       "      <td>0</td>\n",
       "      <td>0.000000</td>\n",
       "    </tr>\n",
       "    <tr>\n",
       "      <td>ApplicantIncome</td>\n",
       "      <td>0</td>\n",
       "      <td>0.000000</td>\n",
       "    </tr>\n",
       "    <tr>\n",
       "      <td>CoapplicantIncome</td>\n",
       "      <td>0</td>\n",
       "      <td>0.000000</td>\n",
       "    </tr>\n",
       "    <tr>\n",
       "      <td>Property_Area</td>\n",
       "      <td>0</td>\n",
       "      <td>0.000000</td>\n",
       "    </tr>\n",
       "  </tbody>\n",
       "</table>\n",
       "</div>"
      ],
      "text/plain": [
       "                   test_miss  percentage\n",
       "Credit_History            29    7.901907\n",
       "Self_Employed             23    6.267030\n",
       "Gender                    11    2.997275\n",
       "Dependents                10    2.724796\n",
       "Loan_Amount_Term           6    1.634877\n",
       "LoanAmount                 5    1.362398\n",
       "Loan_ID                    0    0.000000\n",
       "Married                    0    0.000000\n",
       "Education                  0    0.000000\n",
       "ApplicantIncome            0    0.000000\n",
       "CoapplicantIncome          0    0.000000\n",
       "Property_Area              0    0.000000"
      ]
     },
     "execution_count": 25,
     "metadata": {},
     "output_type": "execute_result"
    }
   ],
   "source": [
    "total_miss = test.isnull().sum()\n",
    "perc_miss = total_miss/test.isnull().count()*100\n",
    "\n",
    "missing_data = pd.DataFrame({'test_miss':total_miss, 'percentage':perc_miss})\n",
    "missing_data.sort_values(by='test_miss', ascending=False)"
   ]
  },
  {
   "cell_type": "code",
   "execution_count": 26,
   "metadata": {},
   "outputs": [],
   "source": [
    "#separating the different categories\n",
    "\n",
    "num_data = []\n",
    "cat_data = []\n",
    "for i,c in enumerate(train.dtypes):\n",
    "    if c == np.object:\n",
    "        cat_data.append(train.iloc[:,i])\n",
    "    else:\n",
    "        num_data.append(train.iloc[:,i])"
   ]
  },
  {
   "cell_type": "code",
   "execution_count": 27,
   "metadata": {},
   "outputs": [],
   "source": [
    "cat_data = pd.DataFrame(cat_data).transpose()\n",
    "num_data = pd.DataFrame(num_data).transpose()"
   ]
  },
  {
   "cell_type": "code",
   "execution_count": 28,
   "metadata": {},
   "outputs": [
    {
     "data": {
      "text/html": [
       "<div>\n",
       "<style scoped>\n",
       "    .dataframe tbody tr th:only-of-type {\n",
       "        vertical-align: middle;\n",
       "    }\n",
       "\n",
       "    .dataframe tbody tr th {\n",
       "        vertical-align: top;\n",
       "    }\n",
       "\n",
       "    .dataframe thead th {\n",
       "        text-align: right;\n",
       "    }\n",
       "</style>\n",
       "<table border=\"1\" class=\"dataframe\">\n",
       "  <thead>\n",
       "    <tr style=\"text-align: right;\">\n",
       "      <th></th>\n",
       "      <th>Loan_ID</th>\n",
       "      <th>Gender</th>\n",
       "      <th>Married</th>\n",
       "      <th>Dependents</th>\n",
       "      <th>Education</th>\n",
       "      <th>Self_Employed</th>\n",
       "      <th>Credit_History</th>\n",
       "      <th>Property_Area</th>\n",
       "      <th>Loan_Status</th>\n",
       "    </tr>\n",
       "  </thead>\n",
       "  <tbody>\n",
       "    <tr>\n",
       "      <td>0</td>\n",
       "      <td>LP001002</td>\n",
       "      <td>Male</td>\n",
       "      <td>No</td>\n",
       "      <td>0</td>\n",
       "      <td>Graduate</td>\n",
       "      <td>No</td>\n",
       "      <td>1</td>\n",
       "      <td>Urban</td>\n",
       "      <td>Y</td>\n",
       "    </tr>\n",
       "    <tr>\n",
       "      <td>1</td>\n",
       "      <td>LP001003</td>\n",
       "      <td>Male</td>\n",
       "      <td>Yes</td>\n",
       "      <td>1</td>\n",
       "      <td>Graduate</td>\n",
       "      <td>No</td>\n",
       "      <td>1</td>\n",
       "      <td>Rural</td>\n",
       "      <td>N</td>\n",
       "    </tr>\n",
       "    <tr>\n",
       "      <td>2</td>\n",
       "      <td>LP001005</td>\n",
       "      <td>Male</td>\n",
       "      <td>Yes</td>\n",
       "      <td>0</td>\n",
       "      <td>Graduate</td>\n",
       "      <td>Yes</td>\n",
       "      <td>1</td>\n",
       "      <td>Urban</td>\n",
       "      <td>Y</td>\n",
       "    </tr>\n",
       "    <tr>\n",
       "      <td>3</td>\n",
       "      <td>LP001006</td>\n",
       "      <td>Male</td>\n",
       "      <td>Yes</td>\n",
       "      <td>0</td>\n",
       "      <td>Not Graduate</td>\n",
       "      <td>No</td>\n",
       "      <td>1</td>\n",
       "      <td>Urban</td>\n",
       "      <td>Y</td>\n",
       "    </tr>\n",
       "    <tr>\n",
       "      <td>4</td>\n",
       "      <td>LP001008</td>\n",
       "      <td>Male</td>\n",
       "      <td>No</td>\n",
       "      <td>0</td>\n",
       "      <td>Graduate</td>\n",
       "      <td>No</td>\n",
       "      <td>1</td>\n",
       "      <td>Urban</td>\n",
       "      <td>Y</td>\n",
       "    </tr>\n",
       "  </tbody>\n",
       "</table>\n",
       "</div>"
      ],
      "text/plain": [
       "    Loan_ID Gender Married Dependents     Education Self_Employed  \\\n",
       "0  LP001002   Male      No          0      Graduate            No   \n",
       "1  LP001003   Male     Yes          1      Graduate            No   \n",
       "2  LP001005   Male     Yes          0      Graduate           Yes   \n",
       "3  LP001006   Male     Yes          0  Not Graduate            No   \n",
       "4  LP001008   Male      No          0      Graduate            No   \n",
       "\n",
       "  Credit_History Property_Area Loan_Status  \n",
       "0              1         Urban           Y  \n",
       "1              1         Rural           N  \n",
       "2              1         Urban           Y  \n",
       "3              1         Urban           Y  \n",
       "4              1         Urban           Y  "
      ]
     },
     "execution_count": 28,
     "metadata": {},
     "output_type": "execute_result"
    }
   ],
   "source": [
    "cat_data.head()"
   ]
  },
  {
   "cell_type": "code",
   "execution_count": 29,
   "metadata": {},
   "outputs": [],
   "source": [
    "cat_data.drop('Loan_ID',axis=1, inplace=True)"
   ]
  },
  {
   "cell_type": "code",
   "execution_count": 30,
   "metadata": {},
   "outputs": [
    {
     "data": {
      "text/html": [
       "<div>\n",
       "<style scoped>\n",
       "    .dataframe tbody tr th:only-of-type {\n",
       "        vertical-align: middle;\n",
       "    }\n",
       "\n",
       "    .dataframe tbody tr th {\n",
       "        vertical-align: top;\n",
       "    }\n",
       "\n",
       "    .dataframe thead th {\n",
       "        text-align: right;\n",
       "    }\n",
       "</style>\n",
       "<table border=\"1\" class=\"dataframe\">\n",
       "  <thead>\n",
       "    <tr style=\"text-align: right;\">\n",
       "      <th></th>\n",
       "      <th>ApplicantIncome</th>\n",
       "      <th>CoapplicantIncome</th>\n",
       "      <th>LoanAmount</th>\n",
       "      <th>Loan_Amount_Term</th>\n",
       "    </tr>\n",
       "  </thead>\n",
       "  <tbody>\n",
       "    <tr>\n",
       "      <td>0</td>\n",
       "      <td>5849.0</td>\n",
       "      <td>0.0</td>\n",
       "      <td>NaN</td>\n",
       "      <td>360.0</td>\n",
       "    </tr>\n",
       "    <tr>\n",
       "      <td>1</td>\n",
       "      <td>4583.0</td>\n",
       "      <td>1508.0</td>\n",
       "      <td>128.0</td>\n",
       "      <td>360.0</td>\n",
       "    </tr>\n",
       "    <tr>\n",
       "      <td>2</td>\n",
       "      <td>3000.0</td>\n",
       "      <td>0.0</td>\n",
       "      <td>66.0</td>\n",
       "      <td>360.0</td>\n",
       "    </tr>\n",
       "    <tr>\n",
       "      <td>3</td>\n",
       "      <td>2583.0</td>\n",
       "      <td>2358.0</td>\n",
       "      <td>120.0</td>\n",
       "      <td>360.0</td>\n",
       "    </tr>\n",
       "    <tr>\n",
       "      <td>4</td>\n",
       "      <td>6000.0</td>\n",
       "      <td>0.0</td>\n",
       "      <td>141.0</td>\n",
       "      <td>360.0</td>\n",
       "    </tr>\n",
       "  </tbody>\n",
       "</table>\n",
       "</div>"
      ],
      "text/plain": [
       "   ApplicantIncome  CoapplicantIncome  LoanAmount  Loan_Amount_Term\n",
       "0           5849.0                0.0         NaN             360.0\n",
       "1           4583.0             1508.0       128.0             360.0\n",
       "2           3000.0                0.0        66.0             360.0\n",
       "3           2583.0             2358.0       120.0             360.0\n",
       "4           6000.0                0.0       141.0             360.0"
      ]
     },
     "execution_count": 30,
     "metadata": {},
     "output_type": "execute_result"
    }
   ],
   "source": [
    "num_data.head()"
   ]
  },
  {
   "cell_type": "code",
   "execution_count": 31,
   "metadata": {},
   "outputs": [
    {
     "data": {
      "text/plain": [
       "False"
      ]
     },
     "execution_count": 31,
     "metadata": {},
     "output_type": "execute_result"
    }
   ],
   "source": [
    "cat_data = cat_data.apply(lambda x: x.fillna(x.value_counts().index[0]))# filling nan with the highest values(must frequent)\n",
    "cat_data.isnull().sum().any()"
   ]
  },
  {
   "cell_type": "code",
   "execution_count": 32,
   "metadata": {},
   "outputs": [
    {
     "data": {
      "text/plain": [
       "False"
      ]
     },
     "execution_count": 32,
     "metadata": {},
     "output_type": "execute_result"
    }
   ],
   "source": [
    "num_data = num_data.fillna(method='bfill',axis=0)\n",
    "num_data.isnull().sum().any()"
   ]
  },
  {
   "cell_type": "code",
   "execution_count": 33,
   "metadata": {},
   "outputs": [],
   "source": [
    "from sklearn.preprocessing import LabelBinarizer\n",
    "\n",
    "lb = LabelBinarizer()"
   ]
  },
  {
   "cell_type": "code",
   "execution_count": 34,
   "metadata": {},
   "outputs": [],
   "source": [
    "target_values = {'Y': 0, 'N': 1}\n",
    "target = cat_data['Loan_Status']\n",
    "cat_data.drop(['Loan_Status'], axis=1,inplace=True)\n",
    "\n",
    "target = target.map(target_values)"
   ]
  },
  {
   "cell_type": "code",
   "execution_count": 35,
   "metadata": {},
   "outputs": [],
   "source": [
    "#transform all categorical features\n",
    "for i in cat_data:\n",
    "    cat_data[i] = lb.fit_transform(cat_data[i])"
   ]
  },
  {
   "cell_type": "code",
   "execution_count": 36,
   "metadata": {},
   "outputs": [
    {
     "data": {
      "text/html": [
       "<div>\n",
       "<style scoped>\n",
       "    .dataframe tbody tr th:only-of-type {\n",
       "        vertical-align: middle;\n",
       "    }\n",
       "\n",
       "    .dataframe tbody tr th {\n",
       "        vertical-align: top;\n",
       "    }\n",
       "\n",
       "    .dataframe thead th {\n",
       "        text-align: right;\n",
       "    }\n",
       "</style>\n",
       "<table border=\"1\" class=\"dataframe\">\n",
       "  <thead>\n",
       "    <tr style=\"text-align: right;\">\n",
       "      <th></th>\n",
       "      <th>Gender</th>\n",
       "      <th>Married</th>\n",
       "      <th>Dependents</th>\n",
       "      <th>Education</th>\n",
       "      <th>Self_Employed</th>\n",
       "      <th>Credit_History</th>\n",
       "      <th>Property_Area</th>\n",
       "    </tr>\n",
       "  </thead>\n",
       "  <tbody>\n",
       "    <tr>\n",
       "      <td>0</td>\n",
       "      <td>1</td>\n",
       "      <td>0</td>\n",
       "      <td>1</td>\n",
       "      <td>0</td>\n",
       "      <td>0</td>\n",
       "      <td>1</td>\n",
       "      <td>0</td>\n",
       "    </tr>\n",
       "    <tr>\n",
       "      <td>1</td>\n",
       "      <td>1</td>\n",
       "      <td>1</td>\n",
       "      <td>0</td>\n",
       "      <td>0</td>\n",
       "      <td>0</td>\n",
       "      <td>1</td>\n",
       "      <td>1</td>\n",
       "    </tr>\n",
       "    <tr>\n",
       "      <td>2</td>\n",
       "      <td>1</td>\n",
       "      <td>1</td>\n",
       "      <td>1</td>\n",
       "      <td>0</td>\n",
       "      <td>1</td>\n",
       "      <td>1</td>\n",
       "      <td>0</td>\n",
       "    </tr>\n",
       "    <tr>\n",
       "      <td>3</td>\n",
       "      <td>1</td>\n",
       "      <td>1</td>\n",
       "      <td>1</td>\n",
       "      <td>1</td>\n",
       "      <td>0</td>\n",
       "      <td>1</td>\n",
       "      <td>0</td>\n",
       "    </tr>\n",
       "    <tr>\n",
       "      <td>4</td>\n",
       "      <td>1</td>\n",
       "      <td>0</td>\n",
       "      <td>1</td>\n",
       "      <td>0</td>\n",
       "      <td>0</td>\n",
       "      <td>1</td>\n",
       "      <td>0</td>\n",
       "    </tr>\n",
       "  </tbody>\n",
       "</table>\n",
       "</div>"
      ],
      "text/plain": [
       "   Gender  Married  Dependents  Education  Self_Employed  Credit_History  \\\n",
       "0       1        0           1          0              0               1   \n",
       "1       1        1           0          0              0               1   \n",
       "2       1        1           1          0              1               1   \n",
       "3       1        1           1          1              0               1   \n",
       "4       1        0           1          0              0               1   \n",
       "\n",
       "   Property_Area  \n",
       "0              0  \n",
       "1              1  \n",
       "2              0  \n",
       "3              0  \n",
       "4              0  "
      ]
     },
     "execution_count": 36,
     "metadata": {},
     "output_type": "execute_result"
    }
   ],
   "source": [
    "cat_data.head()"
   ]
  },
  {
   "cell_type": "code",
   "execution_count": 37,
   "metadata": {},
   "outputs": [],
   "source": [
    "train = pd.concat([cat_data, num_data, target], axis=1)"
   ]
  },
  {
   "cell_type": "code",
   "execution_count": 39,
   "metadata": {
    "scrolled": true
   },
   "outputs": [],
   "source": [
    "train.head(20)"
   ]
  },
  {
   "cell_type": "markdown",
   "metadata": {},
   "source": [
    "# Train the data:"
   ]
  },
  {
   "cell_type": "markdown",
   "metadata": {},
   "source": [
    "**we want to train the data using stratified shuffle split** "
   ]
  },
  {
   "cell_type": "code",
   "execution_count": 105,
   "metadata": {},
   "outputs": [],
   "source": [
    "x = pd.concat([cat_data, num_data],axis=1)\n",
    "y = target"
   ]
  },
  {
   "cell_type": "code",
   "execution_count": 106,
   "metadata": {},
   "outputs": [
    {
     "name": "stdout",
     "output_type": "stream",
     "text": [
      "x_train shape: (491, 11)\n",
      "x_test shape: (123, 11)\n",
      "y_train shape: (491,)\n",
      "y_test shape: (123,)\n"
     ]
    }
   ],
   "source": [
    "#why we use stratified shuffle split is to shuffle them together with the target\n",
    "\n",
    "from sklearn.model_selection import StratifiedShuffleSplit\n",
    "\n",
    "sss = StratifiedShuffleSplit(n_splits=1, test_size=0.2, random_state=42)\n",
    "\n",
    "for train, test in sss.split(x,y):\n",
    "    x_train,x_test = x.iloc[train],x.iloc[test]\n",
    "    y_train,y_test = y.iloc[train],y.iloc[test]\n",
    "    \n",
    "print('x_train shape:', x_train.shape)\n",
    "print('x_test shape:', x_test.shape)\n",
    "print('y_train shape:', y_train.shape)\n",
    "print('y_test shape:', y_test.shape)"
   ]
  },
  {
   "cell_type": "code",
   "execution_count": 107,
   "metadata": {},
   "outputs": [
    {
     "name": "stdout",
     "output_type": "stream",
     "text": [
      "ratio of the target to y_train: [0.68635438 0.31364562]\n",
      "ratio of the target to y_test: [0.69105691 0.30894309]\n",
      "ratio of the target to the original dataset: [0.68729642 0.31270358]\n"
     ]
    }
   ],
   "source": [
    "#checking the ratio of the target\n",
    "print('ratio of the target to y_train:', y_train.value_counts().values/len(y_train))\n",
    "print('ratio of the target to y_test:', y_test.value_counts().values/len(y_test))\n",
    "print('ratio of the target to the original dataset:', y.value_counts().values/len(y))"
   ]
  },
  {
   "cell_type": "code",
   "execution_count": 108,
   "metadata": {},
   "outputs": [],
   "source": [
    "#training using 4 models\n",
    "\n",
    "from sklearn.linear_model import LogisticRegression\n",
    "from sklearn.ensemble import RandomForestClassifier\n",
    "from sklearn.neighbors import KNeighborsClassifier\n",
    "from sklearn.svm import SVC\n",
    "\n",
    "models = {\n",
    "    'LogisticReg:': LogisticRegression(random_state=42),\n",
    "    'RandomForestClassifier:' : RandomForestClassifier(random_state=42, criterion='gini', max_depth=1),\n",
    "    'KNN:': KNeighborsClassifier(n_neighbors=5),\n",
    "    'SupportVectorMachine:': SVC(random_state=42)\n",
    "}"
   ]
  },
  {
   "cell_type": "code",
   "execution_count": 109,
   "metadata": {},
   "outputs": [],
   "source": [
    "#using f2_score,recall,percision, log_loss and accuracy for metrics\n",
    "\n",
    "from sklearn.metrics import f1_score,recall_score,precision_score,accuracy_score,log_loss\n",
    "\n",
    "def measure_loss(y_true, y_pred, retu=False):\n",
    "    prec = precision_score(y_true,y_pred)\n",
    "    recal = recall_score(y_true,y_pred)\n",
    "    f1_sco = f1_score(y_true,y_pred)\n",
    "    acc = accuracy_score(y_true,y_pred)\n",
    "    loss = log_loss(y_true,y_pred)\n",
    "    \n",
    "    if retu:\n",
    "        return prec,recal,f1_sco,acc,loss\n",
    "    else:\n",
    "        print('precision: %.3f \\nrecall: %.3f \\nf1_scores: %.3f \\naccuracy: %.3f \\nloss: %.3f' \\\n",
    "              %(prec,recal,f1_sco,acc,loss))"
   ]
  },
  {
   "cell_type": "code",
   "execution_count": 110,
   "metadata": {},
   "outputs": [
    {
     "name": "stdout",
     "output_type": "stream",
     "text": [
      "LogisticReg:\n",
      "precision: 0.917 \n",
      "recall: 0.429 \n",
      "f1_scores: 0.584 \n",
      "accuracy: 0.809 \n",
      "loss: 6.612\n",
      "------------------------------\n",
      "RandomForestClassifier:\n",
      "precision: 1.000 \n",
      "recall: 0.013 \n",
      "f1_scores: 0.026 \n",
      "accuracy: 0.690 \n",
      "loss: 10.692\n",
      "------------------------------\n",
      "KNN:\n",
      "precision: 0.667 \n",
      "recall: 0.364 \n",
      "f1_scores: 0.471 \n",
      "accuracy: 0.743 \n",
      "loss: 8.863\n",
      "------------------------------\n",
      "SupportVectorMachine:\n",
      "precision: 1.000 \n",
      "recall: 0.013 \n",
      "f1_scores: 0.026 \n",
      "accuracy: 0.690 \n",
      "loss: 10.692\n",
      "------------------------------\n"
     ]
    }
   ],
   "source": [
    "#we now want to evaluate the train_split\n",
    "\n",
    "def train_eval(models, X, Y):\n",
    "    for name,model in models.items():\n",
    "        print(name)\n",
    "        model.fit(X, Y)\n",
    "        measure_loss(Y,model.predict(X))\n",
    "        print('-'*30)\n",
    "        \n",
    "train_eval(models, x_train, y_train)\n",
    "#we see that logistic regression is the best model for now, next to knn."
   ]
  },
  {
   "cell_type": "code",
   "execution_count": 111,
   "metadata": {},
   "outputs": [
    {
     "data": {
      "text/plain": [
       "(491, 11)"
      ]
     },
     "execution_count": 111,
     "metadata": {},
     "output_type": "execute_result"
    }
   ],
   "source": [
    "x_train.shape"
   ]
  },
  {
   "cell_type": "code",
   "execution_count": 112,
   "metadata": {},
   "outputs": [
    {
     "name": "stdout",
     "output_type": "stream",
     "text": [
      "______________________\n",
      "LogisticReg:\n",
      "______________________\n",
      "precision    0.894048\n",
      "recall       0.441250\n",
      "f1_score     0.584205\n",
      "accuracy     0.810612\n",
      "loss         6.541233\n",
      "Name: 0, dtype: float64\n",
      "______________________\n",
      "RandomForestClassifier:\n",
      "______________________\n",
      "precision     0.200000\n",
      "recall        0.013333\n",
      "f1_score      0.025000\n",
      "accuracy      0.690449\n",
      "loss         10.691513\n",
      "Name: 0, dtype: float64\n",
      "______________________\n",
      "KNN:\n",
      "______________________\n",
      "precision     0.379834\n",
      "recall        0.207500\n",
      "f1_score      0.259954\n",
      "accuracy      0.641510\n",
      "loss         12.381887\n",
      "Name: 0, dtype: float64\n",
      "______________________\n",
      "SupportVectorMachine:\n",
      "______________________\n",
      "precision     0.000000\n",
      "recall        0.000000\n",
      "f1_score      0.000000\n",
      "accuracy      0.680245\n",
      "loss         11.043955\n",
      "Name: 0, dtype: float64\n"
     ]
    }
   ],
   "source": [
    "#we want to evaluate. This train_eval_cross will be well explained in the next cell.\n",
    "\n",
    "from sklearn.model_selection import StratifiedKFold\n",
    "\n",
    "skf = StratifiedKFold(random_state=42,n_splits=10,shuffle=True)\n",
    "\n",
    "def train_eval_cross(models, X, Y, folds):\n",
    "    #we want to change X,Y to dataframe, to access iloc(because iloc can't work with np.array)\n",
    "    X = pd.DataFrame(X)\n",
    "    Y = pd.DataFrame(Y)\n",
    "    idx = ['precision', 'recall', 'f1_score', 'accuracy', 'loss']\n",
    "    \n",
    "    for name,model in models.items():\n",
    "        ls = []\n",
    "        print('_'*22)\n",
    "        print(name)\n",
    "        print('_'*22)\n",
    "        for train,test in folds.split(X, Y):\n",
    "            model.fit(X.iloc[train], Y.iloc[train])\n",
    "            y_pred = model.predict(X.iloc[test])\n",
    "            ls.append(measure_loss(Y.iloc[test], y_pred, retu=True))   \n",
    "        print(pd.DataFrame(np.array(ls).mean(axis=0), index=idx)[0])\n",
    "        \n",
    "train_eval_cross(models, x_train, y_train, skf)\n",
    "#logistic regression is till the best, and svm is till memorizing."
   ]
  },
  {
   "cell_type": "code",
   "execution_count": 113,
   "metadata": {},
   "outputs": [
    {
     "data": {
      "text/html": [
       "<div>\n",
       "<style scoped>\n",
       "    .dataframe tbody tr th:only-of-type {\n",
       "        vertical-align: middle;\n",
       "    }\n",
       "\n",
       "    .dataframe tbody tr th {\n",
       "        vertical-align: top;\n",
       "    }\n",
       "\n",
       "    .dataframe thead th {\n",
       "        text-align: right;\n",
       "    }\n",
       "</style>\n",
       "<table border=\"1\" class=\"dataframe\">\n",
       "  <thead>\n",
       "    <tr style=\"text-align: right;\">\n",
       "      <th></th>\n",
       "      <th>precision</th>\n",
       "      <th>recall</th>\n",
       "      <th>f1_score</th>\n",
       "      <th>accuracy</th>\n",
       "      <th>loss</th>\n",
       "    </tr>\n",
       "  </thead>\n",
       "  <tbody>\n",
       "    <tr>\n",
       "      <td>0</td>\n",
       "      <td>0.875000</td>\n",
       "      <td>0.437500</td>\n",
       "      <td>0.583333</td>\n",
       "      <td>0.800000</td>\n",
       "      <td>6.907771</td>\n",
       "    </tr>\n",
       "    <tr>\n",
       "      <td>1</td>\n",
       "      <td>0.833333</td>\n",
       "      <td>0.333333</td>\n",
       "      <td>0.476190</td>\n",
       "      <td>0.775510</td>\n",
       "      <td>7.753619</td>\n",
       "    </tr>\n",
       "    <tr>\n",
       "      <td>2</td>\n",
       "      <td>0.875000</td>\n",
       "      <td>0.466667</td>\n",
       "      <td>0.608696</td>\n",
       "      <td>0.816327</td>\n",
       "      <td>6.343873</td>\n",
       "    </tr>\n",
       "    <tr>\n",
       "      <td>3</td>\n",
       "      <td>0.500000</td>\n",
       "      <td>0.200000</td>\n",
       "      <td>0.285714</td>\n",
       "      <td>0.693878</td>\n",
       "      <td>10.573144</td>\n",
       "    </tr>\n",
       "    <tr>\n",
       "      <td>4</td>\n",
       "      <td>1.000000</td>\n",
       "      <td>0.466667</td>\n",
       "      <td>0.636364</td>\n",
       "      <td>0.836735</td>\n",
       "      <td>5.638984</td>\n",
       "    </tr>\n",
       "    <tr>\n",
       "      <td>5</td>\n",
       "      <td>0.857143</td>\n",
       "      <td>0.400000</td>\n",
       "      <td>0.545455</td>\n",
       "      <td>0.795918</td>\n",
       "      <td>7.048746</td>\n",
       "    </tr>\n",
       "    <tr>\n",
       "      <td>6</td>\n",
       "      <td>1.000000</td>\n",
       "      <td>0.733333</td>\n",
       "      <td>0.846154</td>\n",
       "      <td>0.918367</td>\n",
       "      <td>2.819492</td>\n",
       "    </tr>\n",
       "    <tr>\n",
       "      <td>7</td>\n",
       "      <td>1.000000</td>\n",
       "      <td>0.625000</td>\n",
       "      <td>0.769231</td>\n",
       "      <td>0.877551</td>\n",
       "      <td>4.229238</td>\n",
       "    </tr>\n",
       "    <tr>\n",
       "      <td>8</td>\n",
       "      <td>1.000000</td>\n",
       "      <td>0.375000</td>\n",
       "      <td>0.545455</td>\n",
       "      <td>0.795918</td>\n",
       "      <td>7.048730</td>\n",
       "    </tr>\n",
       "    <tr>\n",
       "      <td>9</td>\n",
       "      <td>1.000000</td>\n",
       "      <td>0.375000</td>\n",
       "      <td>0.545455</td>\n",
       "      <td>0.795918</td>\n",
       "      <td>7.048730</td>\n",
       "    </tr>\n",
       "  </tbody>\n",
       "</table>\n",
       "</div>"
      ],
      "text/plain": [
       "   precision    recall  f1_score  accuracy       loss\n",
       "0   0.875000  0.437500  0.583333  0.800000   6.907771\n",
       "1   0.833333  0.333333  0.476190  0.775510   7.753619\n",
       "2   0.875000  0.466667  0.608696  0.816327   6.343873\n",
       "3   0.500000  0.200000  0.285714  0.693878  10.573144\n",
       "4   1.000000  0.466667  0.636364  0.836735   5.638984\n",
       "5   0.857143  0.400000  0.545455  0.795918   7.048746\n",
       "6   1.000000  0.733333  0.846154  0.918367   2.819492\n",
       "7   1.000000  0.625000  0.769231  0.877551   4.229238\n",
       "8   1.000000  0.375000  0.545455  0.795918   7.048730\n",
       "9   1.000000  0.375000  0.545455  0.795918   7.048730"
      ]
     },
     "execution_count": 113,
     "metadata": {},
     "output_type": "execute_result"
    }
   ],
   "source": [
    "#for a single model,and the explanation of the train_eval_cross.\n",
    "\n",
    "x=[]\n",
    "idx = ['precision','recall','f1_score', 'accuracy', 'loss']\n",
    "\n",
    "lg = LogisticRegression()\n",
    "\n",
    "for train, test in skf.split(x_train,y_train):\n",
    "    lg.fit(x_train.iloc[train], y_train.iloc[train])\n",
    "    ls = measure_loss(y_train.iloc[test], lg.predict(x_train.iloc[test]), retu=True)\n",
    "    x.append(ls)\n",
    "    \n",
    "#And this is the result \n",
    "pd.DataFrame(x, columns=idx)\n",
    "#(columns 0 are the precision_score for logistic regression in the 10folds evaluation)\n",
    "#(the row 0 are the (precision, recall, f1_score, accuracy, loss) of the first fold evaluation)\n",
    "\n",
    "#To find the mean of every scores\n",
    "#mean = pd.DataFrame(x, columns=idx).mean()\n",
    "#print(mean)"
   ]
  },
  {
   "cell_type": "markdown",
   "metadata": {},
   "source": [
    "## Let's improve our model."
   ]
  },
  {
   "cell_type": "markdown",
   "metadata": {},
   "source": [
    "# Feature Engineering."
   ]
  },
  {
   "cell_type": "code",
   "execution_count": 114,
   "metadata": {},
   "outputs": [
    {
     "data": {
      "text/plain": [
       "<matplotlib.axes._subplots.AxesSubplot at 0x1e84f7c7948>"
      ]
     },
     "execution_count": 114,
     "metadata": {},
     "output_type": "execute_result"
    },
    {
     "data": {
      "image/png": "[encoded data removed]",
      "text/plain": [
       "<Figure size 720x504 with 2 Axes>"
      ]
     },
     "metadata": {
      "needs_background": "light"
     },
     "output_type": "display_data"
    }
   ],
   "source": [
    "data_corr = pd.concat([x_train, y_train], axis=1)\n",
    "corr = data_corr.corr()\n",
    "plt.figure(figsize=(10,7))\n",
    "sns.heatmap(corr, annot=True)\n",
    "\n",
    "#we see that the dependents. married, credit_History appears to be a good feature, actually credict_history seem to be the best\n",
    "#feature.\n",
    "#WE also see that loanAmount and applicantIncome have 58% similarity and this may lead to bad model."
   ]
  },
  {
   "cell_type": "code",
   "execution_count": 115,
   "metadata": {},
   "outputs": [
    {
     "data": {
      "text/html": [
       "<div>\n",
       "<style scoped>\n",
       "    .dataframe tbody tr th:only-of-type {\n",
       "        vertical-align: middle;\n",
       "    }\n",
       "\n",
       "    .dataframe tbody tr th {\n",
       "        vertical-align: top;\n",
       "    }\n",
       "\n",
       "    .dataframe thead th {\n",
       "        text-align: right;\n",
       "    }\n",
       "</style>\n",
       "<table border=\"1\" class=\"dataframe\">\n",
       "  <thead>\n",
       "    <tr style=\"text-align: right;\">\n",
       "      <th></th>\n",
       "      <th>Gender</th>\n",
       "      <th>Married</th>\n",
       "      <th>Dependents</th>\n",
       "      <th>Education</th>\n",
       "      <th>Self_Employed</th>\n",
       "      <th>Credit_History</th>\n",
       "      <th>Property_Area</th>\n",
       "      <th>ApplicantIncome</th>\n",
       "      <th>CoapplicantIncome</th>\n",
       "      <th>LoanAmount</th>\n",
       "      <th>Loan_Amount_Term</th>\n",
       "    </tr>\n",
       "  </thead>\n",
       "  <tbody>\n",
       "    <tr>\n",
       "      <td>415</td>\n",
       "      <td>0</td>\n",
       "      <td>0</td>\n",
       "      <td>1</td>\n",
       "      <td>0</td>\n",
       "      <td>0</td>\n",
       "      <td>1</td>\n",
       "      <td>0</td>\n",
       "      <td>2995.0</td>\n",
       "      <td>0.0</td>\n",
       "      <td>60.0</td>\n",
       "      <td>360.0</td>\n",
       "    </tr>\n",
       "    <tr>\n",
       "      <td>26</td>\n",
       "      <td>1</td>\n",
       "      <td>1</td>\n",
       "      <td>1</td>\n",
       "      <td>0</td>\n",
       "      <td>0</td>\n",
       "      <td>1</td>\n",
       "      <td>0</td>\n",
       "      <td>2799.0</td>\n",
       "      <td>2253.0</td>\n",
       "      <td>122.0</td>\n",
       "      <td>360.0</td>\n",
       "    </tr>\n",
       "    <tr>\n",
       "      <td>394</td>\n",
       "      <td>1</td>\n",
       "      <td>1</td>\n",
       "      <td>0</td>\n",
       "      <td>0</td>\n",
       "      <td>0</td>\n",
       "      <td>1</td>\n",
       "      <td>0</td>\n",
       "      <td>3100.0</td>\n",
       "      <td>1400.0</td>\n",
       "      <td>113.0</td>\n",
       "      <td>360.0</td>\n",
       "    </tr>\n",
       "    <tr>\n",
       "      <td>584</td>\n",
       "      <td>1</td>\n",
       "      <td>1</td>\n",
       "      <td>0</td>\n",
       "      <td>0</td>\n",
       "      <td>0</td>\n",
       "      <td>0</td>\n",
       "      <td>1</td>\n",
       "      <td>2787.0</td>\n",
       "      <td>1917.0</td>\n",
       "      <td>146.0</td>\n",
       "      <td>360.0</td>\n",
       "    </tr>\n",
       "    <tr>\n",
       "      <td>86</td>\n",
       "      <td>1</td>\n",
       "      <td>1</td>\n",
       "      <td>0</td>\n",
       "      <td>1</td>\n",
       "      <td>0</td>\n",
       "      <td>1</td>\n",
       "      <td>0</td>\n",
       "      <td>3333.0</td>\n",
       "      <td>2000.0</td>\n",
       "      <td>99.0</td>\n",
       "      <td>360.0</td>\n",
       "    </tr>\n",
       "  </tbody>\n",
       "</table>\n",
       "</div>"
      ],
      "text/plain": [
       "     Gender  Married  Dependents  Education  Self_Employed  Credit_History  \\\n",
       "415       0        0           1          0              0               1   \n",
       "26        1        1           1          0              0               1   \n",
       "394       1        1           0          0              0               1   \n",
       "584       1        1           0          0              0               0   \n",
       "86        1        1           0          1              0               1   \n",
       "\n",
       "     Property_Area  ApplicantIncome  CoapplicantIncome  LoanAmount  \\\n",
       "415              0           2995.0                0.0        60.0   \n",
       "26               0           2799.0             2253.0       122.0   \n",
       "394              0           3100.0             1400.0       113.0   \n",
       "584              1           2787.0             1917.0       146.0   \n",
       "86               0           3333.0             2000.0        99.0   \n",
       "\n",
       "     Loan_Amount_Term  \n",
       "415             360.0  \n",
       "26              360.0  \n",
       "394             360.0  \n",
       "584             360.0  \n",
       "86              360.0  "
      ]
     },
     "execution_count": 115,
     "metadata": {},
     "output_type": "execute_result"
    }
   ],
   "source": [
    "x_train.head()"
   ]
  },
  {
   "cell_type": "code",
   "execution_count": 116,
   "metadata": {},
   "outputs": [],
   "source": [
    "#here come the feature engineering\n",
    "\n",
    "x_train['New_col'] = x_train['CoapplicantIncome'] / x_train['ApplicantIncome']\n",
    "x_train['New_col_1'] = x_train['LoanAmount'] * x_train['Loan_Amount_Term']\n",
    "x_train['New_col_2'] = x_train['CoapplicantIncome'] - x_train['ApplicantIncome']\n"
   ]
  },
  {
   "cell_type": "code",
   "execution_count": 117,
   "metadata": {},
   "outputs": [
    {
     "data": {
      "text/plain": [
       "<matplotlib.axes._subplots.AxesSubplot at 0x1e850029508>"
      ]
     },
     "execution_count": 117,
     "metadata": {},
     "output_type": "execute_result"
    },
    {
     "data": {
      "image/png": "[encoded data removed]",
      "text/plain": [
       "<Figure size 864x648 with 2 Axes>"
      ]
     },
     "metadata": {
      "needs_background": "light"
     },
     "output_type": "display_data"
    }
   ],
   "source": [
    "#let's check their correlation again.\n",
    "\n",
    "data_corr = pd.concat([x_train, y_train], axis=1)\n",
    "corr = data_corr.corr()\n",
    "plt.figure(figsize=(12,9))\n",
    "sns.heatmap(corr, annot=True, cmap='rainbow')"
   ]
  },
  {
   "cell_type": "code",
   "execution_count": 118,
   "metadata": {},
   "outputs": [],
   "source": [
    "x_train.drop(['LoanAmount', 'CoapplicantIncome'], axis=1, inplace=True)"
   ]
  },
  {
   "cell_type": "code",
   "execution_count": 119,
   "metadata": {},
   "outputs": [
    {
     "name": "stdout",
     "output_type": "stream",
     "text": [
      "______________________\n",
      "LogisticReg:\n",
      "______________________\n",
      "precision    0.245714\n",
      "recall       0.116250\n",
      "f1_score     0.156545\n",
      "accuracy     0.716980\n",
      "loss         9.775183\n",
      "Name: 0, dtype: float64\n",
      "______________________\n",
      "RandomForestClassifier:\n",
      "______________________\n",
      "precision     0.200000\n",
      "recall        0.020000\n",
      "f1_score      0.036029\n",
      "accuracy      0.692490\n",
      "loss         10.621026\n",
      "Name: 0, dtype: float64\n",
      "______________________\n",
      "KNN:\n",
      "______________________\n",
      "precision     0.275155\n",
      "recall        0.175417\n",
      "f1_score      0.210686\n",
      "accuracy      0.612816\n",
      "loss         13.372953\n",
      "Name: 0, dtype: float64\n",
      "______________________\n",
      "SupportVectorMachine:\n",
      "______________________\n",
      "precision     0.000000\n",
      "recall        0.000000\n",
      "f1_score      0.000000\n",
      "accuracy      0.686367\n",
      "loss         10.832488\n",
      "Name: 0, dtype: float64\n"
     ]
    }
   ],
   "source": [
    "train_eval_cross(models, x_train, y_train, skf)\n",
    "\n",
    "#here we see that our svm is overfitting and logistic regression has high accuracy"
   ]
  },
  {
   "cell_type": "code",
   "execution_count": 120,
   "metadata": {},
   "outputs": [
    {
     "name": "stdout",
     "output_type": "stream",
     "text": [
      "1    398\n",
      "0     93\n",
      "Name: Gender, dtype: int64\n",
      "--------------\n",
      "1    315\n",
      "0    176\n",
      "Name: Married, dtype: int64\n",
      "--------------\n",
      "1    292\n",
      "0    199\n",
      "Name: Dependents, dtype: int64\n",
      "--------------\n",
      "0    382\n",
      "1    109\n",
      "Name: Education, dtype: int64\n",
      "--------------\n",
      "0    428\n",
      "1     63\n",
      "Name: Self_Employed, dtype: int64\n",
      "--------------\n",
      "1    421\n",
      "0     70\n",
      "Name: Credit_History, dtype: int64\n",
      "--------------\n",
      "0    349\n",
      "1    142\n",
      "Name: Property_Area, dtype: int64\n",
      "--------------\n",
      "2500.0    8\n",
      "3750.0    5\n",
      "3333.0    5\n",
      "2600.0    5\n",
      "4166.0    5\n",
      "         ..\n",
      "5780.0    1\n",
      "3676.0    1\n",
      "2281.0    1\n",
      "1538.0    1\n",
      "3100.0    1\n",
      "Name: ApplicantIncome, Length: 410, dtype: int64\n",
      "--------------\n",
      "360.0    426\n",
      "180.0     37\n",
      "480.0      8\n",
      "300.0      8\n",
      "84.0       3\n",
      "240.0      3\n",
      "60.0       2\n",
      "36.0       2\n",
      "120.0      2\n",
      "Name: Loan_Amount_Term, dtype: int64\n",
      "--------------\n",
      "0.000000    222\n",
      "0.414374      1\n",
      "0.912892      1\n",
      "1.258120      1\n",
      "0.504299      1\n",
      "           ... \n",
      "0.330420      1\n",
      "2.332134      1\n",
      "0.844471      1\n",
      "0.564642      1\n",
      "0.824769      1\n",
      "Name: New_col, Length: 270, dtype: int64\n",
      "--------------\n",
      "43200.0    18\n",
      "39600.0    13\n",
      "36000.0    11\n",
      "57600.0    11\n",
      "46080.0     9\n",
      "           ..\n",
      "3000.0      1\n",
      "12000.0     1\n",
      "9072.0      1\n",
      "25920.0     1\n",
      "7560.0      1\n",
      "Name: New_col_1, Length: 211, dtype: int64\n",
      "--------------\n",
      "-2500.0     6\n",
      "-3750.0     4\n",
      "-4583.0     4\n",
      "-5000.0     3\n",
      "-6000.0     3\n",
      "           ..\n",
      "-537.0      1\n",
      "-2718.0     1\n",
      "-3692.0     1\n",
      "-63337.0    1\n",
      "-546.0      1\n",
      "Name: New_col_2, Length: 455, dtype: int64\n",
      "--------------\n",
      "-240.0    19\n",
      "-250.0    13\n",
      "-200.0    11\n",
      "-260.0    11\n",
      "-230.0     8\n",
      "          ..\n",
      "-169.0     1\n",
      " 24.0      1\n",
      "-274.0     1\n",
      "-172.0     1\n",
      "-351.0     1\n",
      "Name: New_col_3, Length: 210, dtype: int64\n",
      "--------------\n"
     ]
    }
   ],
   "source": [
    "#Taking a look at the value_counts \n",
    "\n",
    "for i in range(x_train.shape[1]):\n",
    "    print(x_train.iloc[:,i].value_counts(), end='\\n--------------\\n')"
   ]
  },
  {
   "cell_type": "code",
   "execution_count": 121,
   "metadata": {},
   "outputs": [
    {
     "data": {
      "text/plain": [
       "Text(0.5, 1.0, 'New_col_1_after log')"
      ]
     },
     "execution_count": 121,
     "metadata": {},
     "output_type": "execute_result"
    },
    {
     "data": {
      "image/png": "[encoded data removed]",
      "text/plain": [
       "<Figure size 864x432 with 2 Axes>"
      ]
     },
     "metadata": {
      "needs_background": "light"
     },
     "output_type": "display_data"
    }
   ],
   "source": [
    "#working on the features we've varied.\n",
    "\n",
    "from scipy.stats import norm\n",
    "\n",
    "fig, ax = plt.subplots(1,2, figsize=(12,6))\n",
    "\n",
    "sns.distplot(x_train['New_col_1'], ax=ax[0], fit=norm)\n",
    "ax[0].set_title('New_col_1_before log')\n",
    "\n",
    "x_train['New_col_1'] = np.log(x_train['New_col_1']) #logarithm of all the values\n",
    "\n",
    "sns.distplot(x_train['New_col_1'], ax=ax[1], fit=norm)\n",
    "ax[1].set_title('New_col_1_after log')"
   ]
  },
  {
   "cell_type": "code",
   "execution_count": 103,
   "metadata": {},
   "outputs": [],
   "source": [
    "#x_train.drop(['New_col_2'], axis=1, inplace=True)"
   ]
  },
  {
   "cell_type": "code",
   "execution_count": 122,
   "metadata": {},
   "outputs": [
    {
     "name": "stdout",
     "output_type": "stream",
     "text": [
      "______________________\n",
      "LogisticReg:\n",
      "______________________\n",
      "precision    0.836706\n",
      "recall       0.448333\n",
      "f1_score     0.572487\n",
      "accuracy     0.800490\n",
      "loss         6.890859\n",
      "Name: 0, dtype: float64\n",
      "______________________\n",
      "RandomForestClassifier:\n",
      "______________________\n",
      "precision     0.200000\n",
      "recall        0.020000\n",
      "f1_score      0.036029\n",
      "accuracy      0.692490\n",
      "loss         10.621026\n",
      "Name: 0, dtype: float64\n",
      "______________________\n",
      "KNN:\n",
      "______________________\n",
      "precision     0.423950\n",
      "recall        0.213750\n",
      "f1_score      0.279113\n",
      "accuracy      0.657755\n",
      "loss         11.820797\n",
      "Name: 0, dtype: float64\n",
      "______________________\n",
      "SupportVectorMachine:\n",
      "______________________\n",
      "precision     0.000000\n",
      "recall        0.000000\n",
      "f1_score      0.000000\n",
      "accuracy      0.684327\n",
      "loss         10.902977\n",
      "Name: 0, dtype: float64\n"
     ]
    }
   ],
   "source": [
    "train_eval_cross(models, x_train, y_train, skf)"
   ]
  },
  {
   "cell_type": "code",
   "execution_count": 124,
   "metadata": {},
   "outputs": [
    {
     "name": "stdout",
     "output_type": "stream",
     "text": [
      "Before:\n",
      "0.000000    222\n",
      "0.414374      1\n",
      "0.912892      1\n",
      "1.258120      1\n",
      "0.504299      1\n",
      "           ... \n",
      "0.330420      1\n",
      "2.332134      1\n",
      "0.844471      1\n",
      "0.564642      1\n",
      "0.824769      1\n",
      "Name: New_col, Length: 270, dtype: int64\n",
      "______________________\n",
      "After:\n",
      "1.0    269\n",
      "0.0    222\n",
      "Name: New_col, dtype: int64\n"
     ]
    }
   ],
   "source": [
    "print('Before:')\n",
    "print(x_train['New_col'].value_counts())\n",
    "\n",
    "x_train['New_col'] = [x if x==0 else 1 for x in x_train['New_col']]\n",
    "print('_'*22)\n",
    "print('After:')\n",
    "print(x_train['New_col'].value_counts())"
   ]
  },
  {
   "cell_type": "code",
   "execution_count": 132,
   "metadata": {},
   "outputs": [],
   "source": [
    "x_train['New_col_2'] = 1000 - x_train['New_col_2']"
   ]
  },
  {
   "cell_type": "code",
   "execution_count": 136,
   "metadata": {},
   "outputs": [
    {
     "name": "stdout",
     "output_type": "stream",
     "text": [
      "______________________\n",
      "LogisticReg:\n",
      "______________________\n",
      "precision    0.704798\n",
      "recall       0.370833\n",
      "f1_score     0.477069\n",
      "accuracy     0.788408\n",
      "loss         7.308135\n",
      "Name: 0, dtype: float64\n",
      "______________________\n",
      "RandomForestClassifier:\n",
      "______________________\n",
      "precision     0.200000\n",
      "recall        0.020000\n",
      "f1_score      0.036029\n",
      "accuracy      0.690449\n",
      "loss         10.691515\n",
      "Name: 0, dtype: float64\n",
      "______________________\n",
      "KNN:\n",
      "______________________\n",
      "precision     0.423950\n",
      "recall        0.213750\n",
      "f1_score      0.279113\n",
      "accuracy      0.657755\n",
      "loss         11.820797\n",
      "Name: 0, dtype: float64\n",
      "______________________\n",
      "SupportVectorMachine:\n",
      "______________________\n",
      "precision     0.000000\n",
      "recall        0.000000\n",
      "f1_score      0.000000\n",
      "accuracy      0.684327\n",
      "loss         10.902977\n",
      "Name: 0, dtype: float64\n"
     ]
    }
   ],
   "source": [
    "train_eval_cross(models, x_train, y_train, skf)"
   ]
  },
  {
   "cell_type": "code",
   "execution_count": 143,
   "metadata": {},
   "outputs": [],
   "source": [
    "x_train.drop(['New_col_3'], axis=1, inplace=True)"
   ]
  },
  {
   "cell_type": "code",
   "execution_count": 145,
   "metadata": {},
   "outputs": [
    {
     "name": "stdout",
     "output_type": "stream",
     "text": [
      "1    398\n",
      "0     93\n",
      "Name: Gender, dtype: int64\n",
      "-------------\n",
      "1    315\n",
      "0    176\n",
      "Name: Married, dtype: int64\n",
      "-------------\n",
      "1    292\n",
      "0    199\n",
      "Name: Dependents, dtype: int64\n",
      "-------------\n",
      "0    382\n",
      "1    109\n",
      "Name: Education, dtype: int64\n",
      "-------------\n",
      "0    428\n",
      "1     63\n",
      "Name: Self_Employed, dtype: int64\n",
      "-------------\n",
      "1    421\n",
      "0     70\n",
      "Name: Credit_History, dtype: int64\n",
      "-------------\n",
      "0    349\n",
      "1    142\n",
      "Name: Property_Area, dtype: int64\n",
      "-------------\n",
      "2500.0    8\n",
      "3750.0    5\n",
      "3333.0    5\n",
      "2600.0    5\n",
      "4166.0    5\n",
      "         ..\n",
      "5780.0    1\n",
      "3676.0    1\n",
      "2281.0    1\n",
      "1538.0    1\n",
      "3100.0    1\n",
      "Name: ApplicantIncome, Length: 410, dtype: int64\n",
      "-------------\n",
      "360.0    426\n",
      "180.0     37\n",
      "480.0      8\n",
      "300.0      8\n",
      "84.0       3\n",
      "240.0      3\n",
      "60.0       2\n",
      "36.0       2\n",
      "120.0      2\n",
      "Name: Loan_Amount_Term, dtype: int64\n",
      "-------------\n",
      "1.0    269\n",
      "0.0    222\n",
      "Name: New_col, dtype: int64\n",
      "-------------\n",
      "10.673596    18\n",
      "10.586584    13\n",
      "10.491274    11\n",
      "10.961278    11\n",
      "10.738134     9\n",
      "             ..\n",
      "10.085809     1\n",
      "9.736252      1\n",
      "11.542096     1\n",
      "11.616204     1\n",
      "8.626944      1\n",
      "Name: New_col_1, Length: 211, dtype: int64\n",
      "-------------\n",
      " 3500.0    6\n",
      " 5583.0    4\n",
      " 4750.0    4\n",
      " 7000.0    3\n",
      " 6000.0    3\n",
      "          ..\n",
      " 3236.0    1\n",
      " 7068.0    1\n",
      "-1222.0    1\n",
      " 4833.0    1\n",
      " 1546.0    1\n",
      "Name: New_col_2, Length: 455, dtype: int64\n",
      "-------------\n"
     ]
    }
   ],
   "source": [
    "for i in range(x_train.shape[1]):\n",
    "    print(x_train.iloc[:,i].value_counts(), end= '\\n-------------\\n')\n",
    "    \n"
   ]
  },
  {
   "cell_type": "markdown",
   "metadata": {},
   "source": [
    "# Outliers"
   ]
  },
  {
   "cell_type": "code",
   "execution_count": 193,
   "metadata": {},
   "outputs": [
    {
     "data": {
      "text/plain": [
       "Text(0.5, 0, ' ')"
      ]
     },
     "execution_count": 193,
     "metadata": {},
     "output_type": "execute_result"
    },
    {
     "data": {
      "image/png": "[encoded data removed]",
      "text/plain": [
       "<Figure size 432x288 with 1 Axes>"
      ]
     },
     "metadata": {
      "needs_background": "light"
     },
     "output_type": "display_data"
    }
   ],
   "source": [
    "sns.boxplot(x_train['New_col_1'])\n",
    "plt.title('New_col_1 outlier', fontsize=10)\n",
    "plt.xlabel(' ')"
   ]
  },
  {
   "cell_type": "code",
   "execution_count": 192,
   "metadata": {},
   "outputs": [
    {
     "name": "stdout",
     "output_type": "stream",
     "text": [
      "25 Quartile is 10.268130666124037 and 75 Quartile is 10.798758917186207\n",
      "\n",
      "IQR: 0.5306282510621703\n",
      "\n",
      "Cut_Out: 0.0015918847531865108\n",
      "\n",
      "Lower: 10.266538781370851\n",
      "\n",
      "Upper: 10.800350801939393\n",
      "\n",
      "Numbers of outliers: 144\n",
      "\n",
      "Outliers: [9.980448593672257, 10.869710653158492, 10.09823162932864, 10.961277846683982, 11.62589694362939, 10.083305979111964, 11.473352689850405, 10.14878390849147, 10.855917331026156, 10.190169124654325, 10.82774645405946, 10.855917331026156, 8.930626469173578, 11.184421397998193, 10.16277015046621, 11.153962190513484, 9.878169744551839, 11.010068010853415, 11.117212648304742, 11.237962164926222, 9.980448593672257, 9.963641475355875, 10.961277846683982, 10.923056633863785, 7.965545573129992, 10.216837371736487, 10.075758773476581, 11.05089000537367, 9.93788897925346, 9.578311275656766, 10.890050337395614, 11.039395625947934, 10.88331630521427, 11.349935836475765, 11.61620381442373, 9.587406005562649, 11.111850705163357, 10.90338386826508, 9.112948025967533, 11.021902468500418, 8.006367567650246, 10.203592144986466, 11.039395625947934, 9.71474542793925, 9.144200569471638, 11.236381136928904, 10.97370036668254, 10.961277846683982, 10.916541952842591, 11.741175953652583, 9.757305042358047, 11.407564949312402, 9.670293665368417, 11.133128103610641, 10.090796650841122, 9.798127036878302, 9.856395945002278, 10.82774645405946, 9.441452092939569, 9.287301413112312, 10.923056633863785, 11.643953727376633, 8.626944055375356, 9.920344669602551, 10.14878390849147, 11.090110718526951, 11.81569317484005, 9.920344669602551, 10.013238416495247, 11.666847547242485, 9.798127036878302, 10.216837371736487, 10.81335771660736, 10.992049505350737, 10.942349836798464, 10.085809109330082, 10.075758773476581, 10.134599273499514, 10.948699064477122, 10.86283777387073, 9.287301413112312, 9.893437216682626, 10.134599273499514, 10.134599273499514, 10.896739325546411, 9.911455722185305, 11.228438283414967, 11.439063616371772, 11.021902468500418, 9.893437216682626, 11.189408939509232, 9.946547041996576, 10.14878390849147, 12.059890135352092, 9.980448593672257, 11.427367576608582, 10.90338386826508, 10.190169124654325, 11.117212648304742, 9.469622969906265, 9.902487052202545, 9.692766521220475, 9.996977895623466, 10.029238757841688, 9.893437216682626, 10.14878390849147, 9.084777149000837, 10.09823162932864, 11.404894720756523, 10.901173922614277, 9.736251633160215, 11.101039789059142, 11.106459856528481, 10.820577964580847, 11.111850705163357, 10.090796650841122, 10.961277846683982, 10.203592144986466, 10.14878390849147, 10.896739325546411, 9.980448593672257, 10.134599273499514, 11.021902468500418, 10.929529148369403, 11.090110718526951, 10.929529148369403, 10.961277846683982, 10.948699064477122, 8.99961934066053, 9.798127036878302, 10.134599273499514, 11.465833857436378, 10.820577964580847, 8.083328608786376, 10.992049505350737, 10.134599273499514, 9.549665677579801, 10.134599273499514, 10.81335771660736, 10.961277846683982, 10.88331630521427, 11.877568578558138, 10.97370036668254, 9.441452092939569]\n",
      "\n",
      "Length of x_train outliers before removing: 295\n",
      "\n",
      "Length of x_train outliers after removed: 151\n"
     ]
    }
   ],
   "source": [
    "threshold = 0.003 #this number is a hyper parameter, and the default is always 1.5\n",
    "\n",
    "new_col_1_out = x_train['New_col_1']\n",
    "q25, q75 = np.percentile(new_col_1_out, 25), np.percentile(new_col_1_out, 75)\n",
    "print('25 Quartile is {} and 75 Quartile is {}'.format(q25,q75))\n",
    "\n",
    "IQR = q75 - q25\n",
    "print('\\nIQR:', IQR)\n",
    "\n",
    "cut = IQR * threshold\n",
    "lower, upper = q25 - cut, q75 + cut\n",
    "print('\\nCut_Out:', cut)\n",
    "print('\\nLower:', lower)\n",
    "print('\\nUpper:', upper)\n",
    "\n",
    "outliers = [x for x in new_col_1_out if x < lower or x > upper]\n",
    "print('\\nNumbers of outliers:', len(outliers))\n",
    "print('\\nOutliers:',outliers)\n",
    "\n",
    "data_outliers = pd.concat([x_train, y_train], axis=1)\n",
    "print('\\nLength of x_train outliers before removing:', len(data_outliers))\n",
    "\n",
    "data_outliers = data_outliers.drop(data_outliers[(data_outliers['New_col_1'] > upper) | (data_outliers['New_col_1'] < lower)].index)\n",
    "print('\\nLength of x_train outliers after removed:', len(data_outliers))"
   ]
  },
  {
   "cell_type": "code",
   "execution_count": 189,
   "metadata": {},
   "outputs": [
    {
     "data": {
      "text/plain": [
       "Text(0.5, 0, ' ')"
      ]
     },
     "execution_count": 189,
     "metadata": {},
     "output_type": "execute_result"
    },
    {
     "data": {
      "image/png": "[encoded data removed]",
      "text/plain": [
       "<Figure size 432x288 with 1 Axes>"
      ]
     },
     "metadata": {
      "needs_background": "light"
     },
     "output_type": "display_data"
    }
   ],
   "source": [
    "sns.boxplot(x_train['New_col_2'])\n",
    "plt.title('New_col_2 outlier', fontsize=10)\n",
    "plt.xlabel(' ')"
   ]
  },
  {
   "cell_type": "code",
   "execution_count": 178,
   "metadata": {},
   "outputs": [
    {
     "name": "stdout",
     "output_type": "stream",
     "text": [
      "25 Quartile is 1816.5 and 75 Quartile is 5821.5\n",
      "\n",
      "IQR: 4005.0\n",
      "\n",
      "Cut_out: 400.5\n",
      "\n",
      "Lower: 1416.0\n",
      "\n",
      "Upper: 6222.0\n",
      "\n",
      "Total Outliers: 196\n",
      "\n",
      "Outliers: [0.0, 17666.0, 13000.0, 1101.0, 6746.0, 6250.0, -252.0, 106.0, 7875.0, 1017.0, 7663.0, 6935.0, 522.0, 1213.0, 9333.0, 16000.0, 10504.0, 21667.0, 8740.0, 1245.0, 1117.0, 1399.0, 17692.0, 7250.0, 11416.0, -42.0, 10500.0, 15999.0, 10166.0, -1707.0, 52763.0, 11750.0, 10328.0, -2750.0, 14262.0, 13.0, 11047.0, 1075.0, 11291.0, 1225.0, 10560.0, -5843.0, 15417.0, 6830.0, -2147.0, 6821.0, 1152.0, 12146.0, 150.0, 1220.0, 16759.0, -400.0, 15880.0, -1100.0, 205.0, 17250.0, 1200.0, 89.0, 874.0, 1085.0, 7783.0, 7633.0, 1102.0, 9000.0, -3475.0, 1181.0, 1113.0, 10703.0, 40999.0, 10963.0, 550.0, 1083.0, 15166.0, 8167.0, -67.0, 15583.0, 10323.0, 7256.0, -2625.0, 7033.0, 1142.0, -3622.0, 1058.0, 542.0, -4033.0, 7000.0, 6391.0, 7216.0, 16511.0, 0.0, 1100.0, -748.0, 7045.0, -3536.0, 851.0, 8085.0, 9799.0, 1182.0, 34846.0, 6649.0, 8441.0, 8660.0, 1038.0, 8100.0, -16500.0, 13876.0, 7325.0, 6583.0, 7782.0, -31001.0, 6829.0, 1041.0, 10508.0, 7400.0, 17120.0, 21233.0, 11833.0, 466.0, 941.0, 7500.0, 15464.0, 7000.0, 1083.0, 11408.0, 11000.0, 6800.0, -2044.0, 19165.0, -88.0, -1736.0, -782.0, 24803.0, -296.0, -1156.0, 8832.0, 1253.0, 7608.0, 8667.0, 7277.0, 1145.0, 1051.0, 12000.0, 816.0, 14650.0, 12757.0, 6849.0, 94.0, 6500.0, 916.0, -17400.0, 8933.0, 1284.0, 584.0, 8142.0, 767.0, 6703.0, 1397.0, 12500.0, -3440.0, -1000.0, 11139.0, 7068.0, 7950.0, -1222.0, 6316.0, 35397.0, 241.0, 375.0, 8333.0, 1085.0, 1265.0, 715.0, -1022.0, 20484.0, 1233.0, 1330.0, 6417.0, 9333.0, 327.0, 1293.0, 1180.0, -650.0, 13000.0, 9000.0, 8200.0, 7000.0, 6780.0, 8451.0, 18500.0, 64337.0, 18263.0, -634.0, 8787.0, 82000.0, 19333.0, 1105.0]\n",
      "\n",
      "data before 491\n",
      "\n",
      "and data after removed 295\n"
     ]
    }
   ],
   "source": [
    "thershold = 0.1\n",
    "\n",
    "new_col_2_out = x_train['New_col_2']\n",
    "q25, q75 = np.percentile(new_col_2_out, 25), np.percentile(new_col_2_out, 75)\n",
    "print('25 Quartile is', q25, 'and 75 Quartile is', q75)\n",
    "\n",
    "IQR = q75 - q25\n",
    "print('\\nIQR:', IQR)\n",
    "\n",
    "cut = IQR * thershold\n",
    "lower, upper = q25 - cut, cut + q75\n",
    "outliers = [x for x in new_col_2_out if x < lower or x > upper]\n",
    "print('\\nCut_out:', cut)\n",
    "print('\\nLower:', lower)\n",
    "print('\\nUpper:', upper)\n",
    "print('\\nTotal Outliers:',len(outliers))\n",
    "print('\\nOutliers:', outliers)\n",
    "\n",
    "data_outliers = pd.concat([x_train, y_train], axis=1)\n",
    "print('\\ndata before', len(data_outliers))\n",
    "\n",
    "data_outliers = data_outliers.drop(data_outliers[(data_outliers['New_col_2'] < lower) | (data_outliers['New_col_2']> upper)].index)\n",
    "print('\\nand data after removed', len(data_outliers))"
   ]
  },
  {
   "cell_type": "code",
   "execution_count": 194,
   "metadata": {},
   "outputs": [
    {
     "data": {
      "text/html": [
       "<div>\n",
       "<style scoped>\n",
       "    .dataframe tbody tr th:only-of-type {\n",
       "        vertical-align: middle;\n",
       "    }\n",
       "\n",
       "    .dataframe tbody tr th {\n",
       "        vertical-align: top;\n",
       "    }\n",
       "\n",
       "    .dataframe thead th {\n",
       "        text-align: right;\n",
       "    }\n",
       "</style>\n",
       "<table border=\"1\" class=\"dataframe\">\n",
       "  <thead>\n",
       "    <tr style=\"text-align: right;\">\n",
       "      <th></th>\n",
       "      <th>Gender</th>\n",
       "      <th>Married</th>\n",
       "      <th>Dependents</th>\n",
       "      <th>Education</th>\n",
       "      <th>Self_Employed</th>\n",
       "      <th>Credit_History</th>\n",
       "      <th>Property_Area</th>\n",
       "      <th>ApplicantIncome</th>\n",
       "      <th>Loan_Amount_Term</th>\n",
       "      <th>New_col</th>\n",
       "      <th>New_col_1</th>\n",
       "      <th>New_col_2</th>\n",
       "      <th>Loan_Status</th>\n",
       "    </tr>\n",
       "  </thead>\n",
       "  <tbody>\n",
       "    <tr>\n",
       "      <td>26</td>\n",
       "      <td>1</td>\n",
       "      <td>1</td>\n",
       "      <td>1</td>\n",
       "      <td>0</td>\n",
       "      <td>0</td>\n",
       "      <td>1</td>\n",
       "      <td>0</td>\n",
       "      <td>2799.0</td>\n",
       "      <td>360.0</td>\n",
       "      <td>1.0</td>\n",
       "      <td>10.690125</td>\n",
       "      <td>1546.0</td>\n",
       "      <td>0</td>\n",
       "    </tr>\n",
       "    <tr>\n",
       "      <td>394</td>\n",
       "      <td>1</td>\n",
       "      <td>1</td>\n",
       "      <td>0</td>\n",
       "      <td>0</td>\n",
       "      <td>0</td>\n",
       "      <td>1</td>\n",
       "      <td>0</td>\n",
       "      <td>3100.0</td>\n",
       "      <td>360.0</td>\n",
       "      <td>1.0</td>\n",
       "      <td>10.613492</td>\n",
       "      <td>2700.0</td>\n",
       "      <td>0</td>\n",
       "    </tr>\n",
       "    <tr>\n",
       "      <td>86</td>\n",
       "      <td>1</td>\n",
       "      <td>1</td>\n",
       "      <td>0</td>\n",
       "      <td>1</td>\n",
       "      <td>0</td>\n",
       "      <td>1</td>\n",
       "      <td>0</td>\n",
       "      <td>3333.0</td>\n",
       "      <td>360.0</td>\n",
       "      <td>1.0</td>\n",
       "      <td>10.481224</td>\n",
       "      <td>2333.0</td>\n",
       "      <td>0</td>\n",
       "    </tr>\n",
       "    <tr>\n",
       "      <td>136</td>\n",
       "      <td>0</td>\n",
       "      <td>1</td>\n",
       "      <td>1</td>\n",
       "      <td>0</td>\n",
       "      <td>0</td>\n",
       "      <td>1</td>\n",
       "      <td>1</td>\n",
       "      <td>4583.0</td>\n",
       "      <td>360.0</td>\n",
       "      <td>0.0</td>\n",
       "      <td>10.316921</td>\n",
       "      <td>5583.0</td>\n",
       "      <td>1</td>\n",
       "    </tr>\n",
       "    <tr>\n",
       "      <td>45</td>\n",
       "      <td>0</td>\n",
       "      <td>0</td>\n",
       "      <td>1</td>\n",
       "      <td>0</td>\n",
       "      <td>0</td>\n",
       "      <td>1</td>\n",
       "      <td>0</td>\n",
       "      <td>3410.0</td>\n",
       "      <td>360.0</td>\n",
       "      <td>0.0</td>\n",
       "      <td>10.363441</td>\n",
       "      <td>4410.0</td>\n",
       "      <td>0</td>\n",
       "    </tr>\n",
       "    <tr>\n",
       "      <td>...</td>\n",
       "      <td>...</td>\n",
       "      <td>...</td>\n",
       "      <td>...</td>\n",
       "      <td>...</td>\n",
       "      <td>...</td>\n",
       "      <td>...</td>\n",
       "      <td>...</td>\n",
       "      <td>...</td>\n",
       "      <td>...</td>\n",
       "      <td>...</td>\n",
       "      <td>...</td>\n",
       "      <td>...</td>\n",
       "      <td>...</td>\n",
       "    </tr>\n",
       "    <tr>\n",
       "      <td>51</td>\n",
       "      <td>0</td>\n",
       "      <td>0</td>\n",
       "      <td>1</td>\n",
       "      <td>0</td>\n",
       "      <td>0</td>\n",
       "      <td>1</td>\n",
       "      <td>0</td>\n",
       "      <td>3086.0</td>\n",
       "      <td>360.0</td>\n",
       "      <td>0.0</td>\n",
       "      <td>10.673596</td>\n",
       "      <td>4086.0</td>\n",
       "      <td>0</td>\n",
       "    </tr>\n",
       "    <tr>\n",
       "      <td>398</td>\n",
       "      <td>1</td>\n",
       "      <td>0</td>\n",
       "      <td>1</td>\n",
       "      <td>1</td>\n",
       "      <td>0</td>\n",
       "      <td>1</td>\n",
       "      <td>1</td>\n",
       "      <td>3902.0</td>\n",
       "      <td>360.0</td>\n",
       "      <td>1.0</td>\n",
       "      <td>10.577452</td>\n",
       "      <td>3236.0</td>\n",
       "      <td>0</td>\n",
       "    </tr>\n",
       "    <tr>\n",
       "      <td>507</td>\n",
       "      <td>1</td>\n",
       "      <td>0</td>\n",
       "      <td>1</td>\n",
       "      <td>0</td>\n",
       "      <td>0</td>\n",
       "      <td>1</td>\n",
       "      <td>0</td>\n",
       "      <td>3583.0</td>\n",
       "      <td>360.0</td>\n",
       "      <td>0.0</td>\n",
       "      <td>10.450452</td>\n",
       "      <td>4583.0</td>\n",
       "      <td>1</td>\n",
       "    </tr>\n",
       "    <tr>\n",
       "      <td>386</td>\n",
       "      <td>1</td>\n",
       "      <td>0</td>\n",
       "      <td>1</td>\n",
       "      <td>1</td>\n",
       "      <td>0</td>\n",
       "      <td>1</td>\n",
       "      <td>0</td>\n",
       "      <td>2346.0</td>\n",
       "      <td>360.0</td>\n",
       "      <td>1.0</td>\n",
       "      <td>10.768906</td>\n",
       "      <td>1746.0</td>\n",
       "      <td>0</td>\n",
       "    </tr>\n",
       "    <tr>\n",
       "      <td>240</td>\n",
       "      <td>1</td>\n",
       "      <td>1</td>\n",
       "      <td>0</td>\n",
       "      <td>0</td>\n",
       "      <td>0</td>\n",
       "      <td>1</td>\n",
       "      <td>1</td>\n",
       "      <td>5819.0</td>\n",
       "      <td>360.0</td>\n",
       "      <td>1.0</td>\n",
       "      <td>10.673596</td>\n",
       "      <td>1819.0</td>\n",
       "      <td>0</td>\n",
       "    </tr>\n",
       "  </tbody>\n",
       "</table>\n",
       "<p>151 rows × 13 columns</p>\n",
       "</div>"
      ],
      "text/plain": [
       "     Gender  Married  Dependents  Education  Self_Employed  Credit_History  \\\n",
       "26        1        1           1          0              0               1   \n",
       "394       1        1           0          0              0               1   \n",
       "86        1        1           0          1              0               1   \n",
       "136       0        1           1          0              0               1   \n",
       "45        0        0           1          0              0               1   \n",
       "..      ...      ...         ...        ...            ...             ...   \n",
       "51        0        0           1          0              0               1   \n",
       "398       1        0           1          1              0               1   \n",
       "507       1        0           1          0              0               1   \n",
       "386       1        0           1          1              0               1   \n",
       "240       1        1           0          0              0               1   \n",
       "\n",
       "     Property_Area  ApplicantIncome  Loan_Amount_Term  New_col  New_col_1  \\\n",
       "26               0           2799.0             360.0      1.0  10.690125   \n",
       "394              0           3100.0             360.0      1.0  10.613492   \n",
       "86               0           3333.0             360.0      1.0  10.481224   \n",
       "136              1           4583.0             360.0      0.0  10.316921   \n",
       "45               0           3410.0             360.0      0.0  10.363441   \n",
       "..             ...              ...               ...      ...        ...   \n",
       "51               0           3086.0             360.0      0.0  10.673596   \n",
       "398              1           3902.0             360.0      1.0  10.577452   \n",
       "507              0           3583.0             360.0      0.0  10.450452   \n",
       "386              0           2346.0             360.0      1.0  10.768906   \n",
       "240              1           5819.0             360.0      1.0  10.673596   \n",
       "\n",
       "     New_col_2  Loan_Status  \n",
       "26      1546.0            0  \n",
       "394     2700.0            0  \n",
       "86      2333.0            0  \n",
       "136     5583.0            1  \n",
       "45      4410.0            0  \n",
       "..         ...          ...  \n",
       "51      4086.0            0  \n",
       "398     3236.0            0  \n",
       "507     4583.0            1  \n",
       "386     1746.0            0  \n",
       "240     1819.0            0  \n",
       "\n",
       "[151 rows x 13 columns]"
      ]
     },
     "execution_count": 194,
     "metadata": {},
     "output_type": "execute_result"
    }
   ],
   "source": [
    "data_outliers"
   ]
  },
  {
   "cell_type": "code",
   "execution_count": 195,
   "metadata": {},
   "outputs": [],
   "source": [
    "x_train = data_outliers.drop(['Loan_Status'], axis=1)\n",
    "y_train = data_outliers['Loan_Status']"
   ]
  },
  {
   "cell_type": "code",
   "execution_count": 196,
   "metadata": {},
   "outputs": [
    {
     "data": {
      "text/plain": [
       "Text(0.5, 0, '')"
      ]
     },
     "execution_count": 196,
     "metadata": {},
     "output_type": "execute_result"
    },
    {
     "data": {
      "image/png": "[encoded data removed]",
      "text/plain": [
       "<Figure size 864x648 with 2 Axes>"
      ]
     },
     "metadata": {
      "needs_background": "light"
     },
     "output_type": "display_data"
    }
   ],
   "source": [
    "fig, ax = plt.subplots(1,2, figsize=(12,9))\n",
    "\n",
    "sns.boxplot(x_train['New_col_1'], ax=ax[0])\n",
    "ax[0].set_title('New_col_1 clear', fontsize=12)\n",
    "plt.xlabel('')\n",
    "\n",
    "sns.boxplot(x_train['New_col_2'], ax=ax[1])\n",
    "ax[1].set_title('New_col_2 clear', fontsize=12)\n",
    "plt.xlabel('')"
   ]
  },
  {
   "cell_type": "code",
   "execution_count": 197,
   "metadata": {},
   "outputs": [
    {
     "name": "stdout",
     "output_type": "stream",
     "text": [
      "______________________\n",
      "LogisticReg:\n",
      "______________________\n",
      "precision    0.966667\n",
      "recall       0.565000\n",
      "f1_score     0.671457\n",
      "accuracy     0.853750\n",
      "loss         5.051307\n",
      "Name: 0, dtype: float64\n",
      "______________________\n",
      "RandomForestClassifier:\n",
      "______________________\n",
      "precision    0.475000\n",
      "recall       0.245000\n",
      "f1_score     0.303889\n",
      "accuracy     0.760833\n",
      "loss         8.260529\n",
      "Name: 0, dtype: float64\n",
      "______________________\n",
      "KNN:\n",
      "______________________\n",
      "precision     0.396190\n",
      "recall        0.320000\n",
      "f1_score      0.342006\n",
      "accuracy      0.648333\n",
      "loss         12.146248\n",
      "Name: 0, dtype: float64\n",
      "______________________\n",
      "SupportVectorMachine:\n",
      "______________________\n",
      "precision     0.000000\n",
      "recall        0.000000\n",
      "f1_score      0.000000\n",
      "accuracy      0.688750\n",
      "loss         10.750194\n",
      "Name: 0, dtype: float64\n"
     ]
    }
   ],
   "source": [
    "train_eval_cross(models, x_train, y_train, skf)"
   ]
  },
  {
   "cell_type": "code",
   "execution_count": 200,
   "metadata": {},
   "outputs": [
    {
     "data": {
      "text/plain": [
       "<matplotlib.axes._subplots.AxesSubplot at 0x1e853eee908>"
      ]
     },
     "execution_count": 200,
     "metadata": {},
     "output_type": "execute_result"
    },
    {
     "data": {
      "image/png": "[encoded data removed]",
      "text/plain": [
       "<Figure size 864x648 with 2 Axes>"
      ]
     },
     "metadata": {
      "needs_background": "light"
     },
     "output_type": "display_data"
    }
   ],
   "source": [
    "data_corr = pd.concat([x_train, y_train],axis=1)\n",
    "corr = data_corr.corr()\n",
    "plt.figure(figsize=(12,9))\n",
    "sns.heatmap(corr, annot=True, cmap='rainbow')"
   ]
  },
  {
   "cell_type": "code",
   "execution_count": 201,
   "metadata": {},
   "outputs": [],
   "source": [
    "x_train.drop(['Gender', 'Married','Dependents','Education', 'Self_Employed', 'Property_Area', 'ApplicantIncome', 'New_col', 'New_col_1', 'New_col_2'], axis=1, inplace=True)"
   ]
  },
  {
   "cell_type": "code",
   "execution_count": 202,
   "metadata": {},
   "outputs": [
    {
     "name": "stdout",
     "output_type": "stream",
     "text": [
      "______________________\n",
      "LogisticReg:\n",
      "______________________\n",
      "precision    0.980000\n",
      "recall       0.540000\n",
      "f1_score     0.661984\n",
      "accuracy     0.853750\n",
      "loss         5.051301\n",
      "Name: 0, dtype: float64\n",
      "______________________\n",
      "RandomForestClassifier:\n",
      "______________________\n",
      "precision    0.980000\n",
      "recall       0.565000\n",
      "f1_score     0.688651\n",
      "accuracy     0.860417\n",
      "loss         4.821043\n",
      "Name: 0, dtype: float64\n",
      "______________________\n",
      "KNN:\n",
      "______________________\n",
      "precision    0.980000\n",
      "recall       0.565000\n",
      "f1_score     0.688651\n",
      "accuracy     0.860417\n",
      "loss         4.821043\n",
      "Name: 0, dtype: float64\n",
      "______________________\n",
      "SupportVectorMachine:\n",
      "______________________\n",
      "precision    0.400000\n",
      "recall       0.090000\n",
      "f1_score     0.146667\n",
      "accuracy     0.715000\n",
      "loss         9.843551\n",
      "Name: 0, dtype: float64\n"
     ]
    }
   ],
   "source": [
    "train_eval_cross(models,x_train,y_train,skf)"
   ]
  },
  {
   "cell_type": "markdown",
   "metadata": {},
   "source": [
    "# evaluating the test data\n"
   ]
  },
  {
   "cell_type": "code",
   "execution_count": 241,
   "metadata": {},
   "outputs": [
    {
     "data": {
      "text/html": [
       "<div>\n",
       "<style scoped>\n",
       "    .dataframe tbody tr th:only-of-type {\n",
       "        vertical-align: middle;\n",
       "    }\n",
       "\n",
       "    .dataframe tbody tr th {\n",
       "        vertical-align: top;\n",
       "    }\n",
       "\n",
       "    .dataframe thead th {\n",
       "        text-align: right;\n",
       "    }\n",
       "</style>\n",
       "<table border=\"1\" class=\"dataframe\">\n",
       "  <thead>\n",
       "    <tr style=\"text-align: right;\">\n",
       "      <th></th>\n",
       "      <th>Gender</th>\n",
       "      <th>Married</th>\n",
       "      <th>Dependents</th>\n",
       "      <th>Education</th>\n",
       "      <th>Self_Employed</th>\n",
       "      <th>Credit_History</th>\n",
       "      <th>Property_Area</th>\n",
       "      <th>ApplicantIncome</th>\n",
       "      <th>CoapplicantIncome</th>\n",
       "      <th>LoanAmount</th>\n",
       "      <th>Loan_Amount_Term</th>\n",
       "      <th>New_col</th>\n",
       "      <th>New_col_1</th>\n",
       "      <th>New_col_2</th>\n",
       "      <th>Loan_Status</th>\n",
       "    </tr>\n",
       "  </thead>\n",
       "  <tbody>\n",
       "    <tr>\n",
       "      <td>182</td>\n",
       "      <td>1</td>\n",
       "      <td>1</td>\n",
       "      <td>1</td>\n",
       "      <td>0</td>\n",
       "      <td>0</td>\n",
       "      <td>1</td>\n",
       "      <td>0</td>\n",
       "      <td>4600.0</td>\n",
       "      <td>0.0</td>\n",
       "      <td>73.0</td>\n",
       "      <td>180.0</td>\n",
       "      <td>0.0</td>\n",
       "      <td>9.483416</td>\n",
       "      <td>5600.0</td>\n",
       "      <td>0</td>\n",
       "    </tr>\n",
       "    <tr>\n",
       "      <td>276</td>\n",
       "      <td>1</td>\n",
       "      <td>1</td>\n",
       "      <td>1</td>\n",
       "      <td>0</td>\n",
       "      <td>0</td>\n",
       "      <td>1</td>\n",
       "      <td>0</td>\n",
       "      <td>3993.0</td>\n",
       "      <td>3274.0</td>\n",
       "      <td>207.0</td>\n",
       "      <td>360.0</td>\n",
       "      <td>1.0</td>\n",
       "      <td>11.218823</td>\n",
       "      <td>1719.0</td>\n",
       "      <td>0</td>\n",
       "    </tr>\n",
       "    <tr>\n",
       "      <td>504</td>\n",
       "      <td>1</td>\n",
       "      <td>1</td>\n",
       "      <td>1</td>\n",
       "      <td>1</td>\n",
       "      <td>0</td>\n",
       "      <td>1</td>\n",
       "      <td>0</td>\n",
       "      <td>3814.0</td>\n",
       "      <td>1483.0</td>\n",
       "      <td>124.0</td>\n",
       "      <td>300.0</td>\n",
       "      <td>1.0</td>\n",
       "      <td>10.524064</td>\n",
       "      <td>3331.0</td>\n",
       "      <td>0</td>\n",
       "    </tr>\n",
       "    <tr>\n",
       "      <td>57</td>\n",
       "      <td>1</td>\n",
       "      <td>1</td>\n",
       "      <td>1</td>\n",
       "      <td>0</td>\n",
       "      <td>0</td>\n",
       "      <td>1</td>\n",
       "      <td>1</td>\n",
       "      <td>3366.0</td>\n",
       "      <td>2200.0</td>\n",
       "      <td>135.0</td>\n",
       "      <td>360.0</td>\n",
       "      <td>1.0</td>\n",
       "      <td>10.791379</td>\n",
       "      <td>2166.0</td>\n",
       "      <td>1</td>\n",
       "    </tr>\n",
       "    <tr>\n",
       "      <td>259</td>\n",
       "      <td>1</td>\n",
       "      <td>1</td>\n",
       "      <td>0</td>\n",
       "      <td>1</td>\n",
       "      <td>0</td>\n",
       "      <td>1</td>\n",
       "      <td>0</td>\n",
       "      <td>4931.0</td>\n",
       "      <td>0.0</td>\n",
       "      <td>128.0</td>\n",
       "      <td>360.0</td>\n",
       "      <td>0.0</td>\n",
       "      <td>10.738134</td>\n",
       "      <td>5931.0</td>\n",
       "      <td>1</td>\n",
       "    </tr>\n",
       "  </tbody>\n",
       "</table>\n",
       "</div>"
      ],
      "text/plain": [
       "     Gender  Married  Dependents  Education  Self_Employed  Credit_History  \\\n",
       "182       1        1           1          0              0               1   \n",
       "276       1        1           1          0              0               1   \n",
       "504       1        1           1          1              0               1   \n",
       "57        1        1           1          0              0               1   \n",
       "259       1        1           0          1              0               1   \n",
       "\n",
       "     Property_Area  ApplicantIncome  CoapplicantIncome  LoanAmount  \\\n",
       "182              0           4600.0                0.0        73.0   \n",
       "276              0           3993.0             3274.0       207.0   \n",
       "504              0           3814.0             1483.0       124.0   \n",
       "57               1           3366.0             2200.0       135.0   \n",
       "259              0           4931.0                0.0       128.0   \n",
       "\n",
       "     Loan_Amount_Term  New_col  New_col_1  New_col_2  Loan_Status  \n",
       "182             180.0      0.0   9.483416     5600.0            0  \n",
       "276             360.0      1.0  11.218823     1719.0            0  \n",
       "504             300.0      1.0  10.524064     3331.0            0  \n",
       "57              360.0      1.0  10.791379     2166.0            1  \n",
       "259             360.0      0.0  10.738134     5931.0            1  "
      ]
     },
     "execution_count": 241,
     "metadata": {},
     "output_type": "execute_result"
    }
   ],
   "source": [
    "x_test.head()"
   ]
  },
  {
   "cell_type": "code",
   "execution_count": 210,
   "metadata": {},
   "outputs": [],
   "source": [
    "x_test['New_col'] = x_test['CoapplicantIncome'] / x_test['ApplicantIncome']\n",
    "x_test['New_col_1'] = x_test['LoanAmount'] * x_test['Loan_Amount_Term']\n",
    "x_test['New_col_2'] = x_test['CoapplicantIncome'] - x_test['ApplicantIncome']\n",
    "\n",
    "\n",
    "x_test.drop(['New_col_3'], axis=1, inplace=True)\n",
    "x_test['New_col_2'] = 1000 - x_test['New_col_2']\n",
    "x_test['New_col_1'] = np.log(x_test['New_col_1'])\n",
    "x_test['New_col'] = [x if x==0 else 1 for x in x_test['New_col']]"
   ]
  },
  {
   "cell_type": "code",
   "execution_count": 258,
   "metadata": {},
   "outputs": [],
   "source": [
    "x_test.drop(['LoanAmount', 'CoapplicantIncome'], axis=1, inplace=True)"
   ]
  },
  {
   "cell_type": "code",
   "execution_count": 251,
   "metadata": {},
   "outputs": [
    {
     "name": "stdout",
     "output_type": "stream",
     "text": [
      "Outlier numbers [12250.0, 15583.0, 10357.0, 21166.0, 13583.0, 11000.0, -40251.0, 38719.0, 15866.0, -4784.0, 10538.0]\n",
      "outliers no 11\n",
      "length 123\n",
      "length after 112\n"
     ]
    }
   ],
   "source": [
    "threshold = 1.0\n",
    "\n",
    "test_out = x_test['New_col_2']\n",
    "q25, q75 = np.percentile(test_out, 25), np.percentile(test_out, 75)\n",
    "\n",
    "iqr = q75 - q25\n",
    "cut = iqr * threshold\n",
    "lower, upper = q25 - cut, q75 + cut \n",
    "outlier = [x for x in test_out if x < lower or x >upper]\n",
    "print('Outlier numbers', outlier)\n",
    "print('outliers no', len(outlier))\n",
    "x_test_new = pd.concat([x_test, y_test], axis=1)\n",
    "print('length',len(x_test_new))\n",
    "x_test_new = x_test_new.drop(x_test_new[(x_test_new['New_col_2'] < lower) | (x_test_new['New_col_2']>upper)].index)\n",
    "print('length after', len(x_test_new))"
   ]
  },
  {
   "cell_type": "code",
   "execution_count": 252,
   "metadata": {},
   "outputs": [
    {
     "data": {
      "text/plain": [
       "<matplotlib.axes._subplots.AxesSubplot at 0x1e85429ea48>"
      ]
     },
     "execution_count": 252,
     "metadata": {},
     "output_type": "execute_result"
    },
    {
     "data": {
      "image/png": "[encoded data removed]",
      "text/plain": [
       "<Figure size 432x288 with 1 Axes>"
      ]
     },
     "metadata": {
      "needs_background": "light"
     },
     "output_type": "display_data"
    }
   ],
   "source": [
    "sns.boxplot(x_test_new['New_col_2'])"
   ]
  },
  {
   "cell_type": "code",
   "execution_count": 253,
   "metadata": {},
   "outputs": [],
   "source": [
    "x_test = x_test_new.drop(['Loan_Status'], axis=1)\n",
    "y_test = x_test_new['Loan_Status']"
   ]
  },
  {
   "cell_type": "code",
   "execution_count": 254,
   "metadata": {},
   "outputs": [],
   "source": [
    "#x_test.drop(['Gender', 'Married','Dependents','Education', 'Self_Employed', 'Property_Area', 'ApplicantIncome', 'New_col', 'New_col_1', 'New_col_2'], axis=1, inplace=True)"
   ]
  },
  {
   "cell_type": "code",
   "execution_count": 256,
   "metadata": {},
   "outputs": [
    {
     "data": {
      "text/html": [
       "<div>\n",
       "<style scoped>\n",
       "    .dataframe tbody tr th:only-of-type {\n",
       "        vertical-align: middle;\n",
       "    }\n",
       "\n",
       "    .dataframe tbody tr th {\n",
       "        vertical-align: top;\n",
       "    }\n",
       "\n",
       "    .dataframe thead th {\n",
       "        text-align: right;\n",
       "    }\n",
       "</style>\n",
       "<table border=\"1\" class=\"dataframe\">\n",
       "  <thead>\n",
       "    <tr style=\"text-align: right;\">\n",
       "      <th></th>\n",
       "      <th>Credit_History</th>\n",
       "      <th>Loan_Amount_Term</th>\n",
       "    </tr>\n",
       "  </thead>\n",
       "  <tbody>\n",
       "    <tr>\n",
       "      <td>26</td>\n",
       "      <td>1</td>\n",
       "      <td>360.0</td>\n",
       "    </tr>\n",
       "    <tr>\n",
       "      <td>394</td>\n",
       "      <td>1</td>\n",
       "      <td>360.0</td>\n",
       "    </tr>\n",
       "    <tr>\n",
       "      <td>86</td>\n",
       "      <td>1</td>\n",
       "      <td>360.0</td>\n",
       "    </tr>\n",
       "    <tr>\n",
       "      <td>136</td>\n",
       "      <td>1</td>\n",
       "      <td>360.0</td>\n",
       "    </tr>\n",
       "    <tr>\n",
       "      <td>45</td>\n",
       "      <td>1</td>\n",
       "      <td>360.0</td>\n",
       "    </tr>\n",
       "  </tbody>\n",
       "</table>\n",
       "</div>"
      ],
      "text/plain": [
       "     Credit_History  Loan_Amount_Term\n",
       "26                1             360.0\n",
       "394               1             360.0\n",
       "86                1             360.0\n",
       "136               1             360.0\n",
       "45                1             360.0"
      ]
     },
     "execution_count": 256,
     "metadata": {},
     "output_type": "execute_result"
    }
   ],
   "source": [
    "x_train.head()"
   ]
  },
  {
   "cell_type": "code",
   "execution_count": 259,
   "metadata": {},
   "outputs": [
    {
     "data": {
      "text/html": [
       "<div>\n",
       "<style scoped>\n",
       "    .dataframe tbody tr th:only-of-type {\n",
       "        vertical-align: middle;\n",
       "    }\n",
       "\n",
       "    .dataframe tbody tr th {\n",
       "        vertical-align: top;\n",
       "    }\n",
       "\n",
       "    .dataframe thead th {\n",
       "        text-align: right;\n",
       "    }\n",
       "</style>\n",
       "<table border=\"1\" class=\"dataframe\">\n",
       "  <thead>\n",
       "    <tr style=\"text-align: right;\">\n",
       "      <th></th>\n",
       "      <th>Credit_History</th>\n",
       "      <th>Loan_Amount_Term</th>\n",
       "    </tr>\n",
       "  </thead>\n",
       "  <tbody>\n",
       "    <tr>\n",
       "      <td>182</td>\n",
       "      <td>1</td>\n",
       "      <td>180.0</td>\n",
       "    </tr>\n",
       "    <tr>\n",
       "      <td>440</td>\n",
       "      <td>1</td>\n",
       "      <td>360.0</td>\n",
       "    </tr>\n",
       "    <tr>\n",
       "      <td>276</td>\n",
       "      <td>1</td>\n",
       "      <td>360.0</td>\n",
       "    </tr>\n",
       "    <tr>\n",
       "      <td>504</td>\n",
       "      <td>1</td>\n",
       "      <td>300.0</td>\n",
       "    </tr>\n",
       "    <tr>\n",
       "      <td>300</td>\n",
       "      <td>0</td>\n",
       "      <td>360.0</td>\n",
       "    </tr>\n",
       "  </tbody>\n",
       "</table>\n",
       "</div>"
      ],
      "text/plain": [
       "     Credit_History  Loan_Amount_Term\n",
       "182               1             180.0\n",
       "440               1             360.0\n",
       "276               1             360.0\n",
       "504               1             300.0\n",
       "300               0             360.0"
      ]
     },
     "execution_count": 259,
     "metadata": {},
     "output_type": "execute_result"
    }
   ],
   "source": [
    "x_test.head()"
   ]
  },
  {
   "cell_type": "code",
   "execution_count": 262,
   "metadata": {},
   "outputs": [
    {
     "name": "stdout",
     "output_type": "stream",
     "text": [
      "LogisticReg:\n",
      "____________________\n",
      "precision: 0.889 \n",
      "recall: 0.485 \n",
      "f1_scores: 0.627 \n",
      "accuracy: 0.830 \n",
      "loss: 5.859\n",
      "____________________\n",
      "RandomForestClassifier:\n",
      "____________________\n",
      "precision: 0.783 \n",
      "recall: 0.545 \n",
      "f1_scores: 0.643 \n",
      "accuracy: 0.821 \n",
      "loss: 6.168\n",
      "____________________\n",
      "KNN:\n",
      "____________________\n",
      "precision: 0.783 \n",
      "recall: 0.545 \n",
      "f1_scores: 0.643 \n",
      "accuracy: 0.821 \n",
      "loss: 6.168\n",
      "____________________\n",
      "SupportVectorMachine:\n",
      "____________________\n",
      "precision: 0.500 \n",
      "recall: 0.091 \n",
      "f1_scores: 0.154 \n",
      "accuracy: 0.705 \n",
      "loss: 10.177\n",
      "____________________\n"
     ]
    }
   ],
   "source": [
    "for name,model in models.items():\n",
    "    print(name)\n",
    "    y_pred = model.predict(x_test)\n",
    "    print('_'*20)\n",
    "    measure_loss(y_test, y_pred)\n",
    "    print('_'*20)"
   ]
  },
  {
   "cell_type": "markdown",
   "metadata": {},
   "source": [
    "### In conclusion:"
   ]
  },
  {
   "cell_type": "markdown",
   "metadata": {},
   "source": [
    "#### we see that the knn, randomforest, and logistic reg, are the best model, now, we can also improve our model *recall* by using other complex model. If there is any mistake or a way of improvement please comment."
   ]
  },
  {
   "cell_type": "markdown",
   "metadata": {},
   "source": [
    "Thank You."
   ]
  }
 ],
 "metadata": {
  "kernelspec": {
   "display_name": "Python 3",
   "language": "python",
   "name": "python3"
  },
  "language_info": {
   "codemirror_mode": {
    "name": "ipython",
    "version": 3
   },
   "file_extension": ".py",
   "mimetype": "text/x-python",
   "name": "python",
   "nbconvert_exporter": "python",
   "pygments_lexer": "ipython3",
   "version": "3.7.4"
  }
 },
 "nbformat": 4,
 "nbformat_minor": 2
}
